{
 "cells": [
  {
   "cell_type": "code",
   "execution_count": 1,
   "metadata": {},
   "outputs": [],
   "source": [
    "from osgeo import gdal,ogr,osr\n",
    "import os\n",
    "import numpy as np\n",
    "import matplotlib.pyplot as plt\n",
    "#import spectral\n",
    "#import rasterio\n",
    "#import spectral.io.envi as envi\n",
    "#import json\n",
    "import math\n",
    "from math import sqrt\n",
    "import pandas as pd\n",
    "import geopandas as gpd\n",
    "import affine\n",
    "from affine import Affine\n",
    "import helper_functions"
   ]
  },
  {
   "cell_type": "code",
   "execution_count": 2,
   "metadata": {},
   "outputs": [
    {
     "name": "stdout",
     "output_type": "stream",
     "text": [
      "External SSD mounted at: /Volumes/T9\n"
     ]
    }
   ],
   "source": [
    "# Path to the external SSD\n",
    "# external_ssd_path = '/Volumes/Desk SSD'\n",
    "external_ssd_path = '/Volumes/T9'\n",
    "source_folder_name = \"sensor_validation/\"\n",
    "source_folder_path = os.path.join(external_ssd_path,source_folder_name)\n",
    "subzone = \"subzone_c\"\n",
    "source_folder_subzones = [\"subzone_c\",\"subzone_d\",\"subzone_e\"]\n",
    "\n",
    "# Check if the external SSD is mounted\n",
    "if os.path.exists(external_ssd_path):\n",
    "    print(f\"External SSD mounted at: {external_ssd_path}\")"
   ]
  },
  {
   "cell_type": "code",
   "execution_count": 3,
   "metadata": {},
   "outputs": [
    {
     "name": "stdout",
     "output_type": "stream",
     "text": [
      "HSI Source folder path: /Volumes/T9/sensor_validation/subzone_c/hsi\n",
      "Plots Source folder path: /Volumes/T9/sensor_validation/subzone_c/plots\n"
     ]
    }
   ],
   "source": [
    "flightstrips, hsi_img_object, plot_site_shapefile = helper_functions.get_subzone_objects(source_folder_path, subzone)"
   ]
  },
  {
   "cell_type": "code",
   "execution_count": 4,
   "metadata": {},
   "outputs": [
    {
     "data": {
      "text/plain": [
       "{'ang20170709t224839rfl': <osgeo.gdal.Dataset; proxy of <Swig Object of type 'GDALDatasetShadow *' at 0x103d09e00> >,\n",
       " 'ang20170714t235124rfl': <osgeo.gdal.Dataset; proxy of <Swig Object of type 'GDALDatasetShadow *' at 0x103d08510> >,\n",
       " 'ang20190706t234547rfl': <osgeo.gdal.Dataset; proxy of <Swig Object of type 'GDALDatasetShadow *' at 0x103d09f50> >,\n",
       " 'ang20190706t235120rfl': <osgeo.gdal.Dataset; proxy of <Swig Object of type 'GDALDatasetShadow *' at 0x103d09fe0> >,\n",
       " 'ang20190712t212208rfl': <osgeo.gdal.Dataset; proxy of <Swig Object of type 'GDALDatasetShadow *' at 0x103d0a5e0> >,\n",
       " 'ang20190712t212749rfl': <osgeo.gdal.Dataset; proxy of <Swig Object of type 'GDALDatasetShadow *' at 0x103d08690> >}"
      ]
     },
     "execution_count": 4,
     "metadata": {},
     "output_type": "execute_result"
    }
   ],
   "source": [
    "hsi_img_object"
   ]
  },
  {
   "cell_type": "code",
   "execution_count": 5,
   "metadata": {},
   "outputs": [
    {
     "name": "stdout",
     "output_type": "stream",
     "text": [
      "Flightstrip:\tang20170709t224839rfl\n",
      "Bands:\t425\n",
      "Cols (x-axis):\t655\n",
      "Rows (y-axis):\t3883\n",
      "-------------------------------------\n",
      "Flightstrip:\tang20170714t235124rfl\n",
      "Bands:\t425\n",
      "Cols (x-axis):\t652\n",
      "Rows (y-axis):\t3614\n",
      "-------------------------------------\n",
      "Flightstrip:\tang20190706t234547rfl\n",
      "Bands:\t425\n",
      "Cols (x-axis):\t1041\n",
      "Rows (y-axis):\t3912\n",
      "-------------------------------------\n",
      "Flightstrip:\tang20190706t235120rfl\n",
      "Bands:\t425\n",
      "Cols (x-axis):\t647\n",
      "Rows (y-axis):\t3798\n",
      "-------------------------------------\n",
      "Flightstrip:\tang20190712t212208rfl\n",
      "Bands:\t425\n",
      "Cols (x-axis):\t957\n",
      "Rows (y-axis):\t3837\n",
      "-------------------------------------\n",
      "Flightstrip:\tang20190712t212749rfl\n",
      "Bands:\t425\n",
      "Cols (x-axis):\t662\n",
      "Rows (y-axis):\t3751\n",
      "-------------------------------------\n"
     ]
    }
   ],
   "source": [
    "for flightstrip in flightstrips:\n",
    "    # read a few key properties of the image\n",
    "    nbands = hsi_img_object[flightstrip].RasterCount\n",
    "    ncols = hsi_img_object[flightstrip].RasterXSize\n",
    "    nrows = hsi_img_object[flightstrip].RasterYSize\n",
    "\n",
    "    print(\"\\n\".join([\"Flightstrip:\\t\"+str(flightstrip),\"Bands:\\t\"+str(nbands),\"Cols (x-axis):\\t\"+str(ncols),\"Rows (y-axis):\\t\"+str(nrows)]))\n",
    "    print(\"-------------------------------------\")"
   ]
  },
  {
   "cell_type": "code",
   "execution_count": 7,
   "metadata": {},
   "outputs": [
    {
     "name": "stdout",
     "output_type": "stream",
     "text": [
      "  C2_plot_jp Field_rele Modified_r              Date__year  \\\n",
      "0       None       1304       1304  1972, 1999, 2008, 2024   \n",
      "1       None       1303       1303  1972, 1999, 2008, 2023   \n",
      "2       None        208        208  1972, 1999, 2008, 2011   \n",
      "3       None        206        206  1972, 1999, 2008, 2010   \n",
      "\n",
      "               Year_plot_                                           Dataset  \\\n",
      "0  1972, 1999, 2008, 2024  Barrow IBP (Webber 1978, Villarreal et al. 2012)   \n",
      "1  1972, 1999, 2008, 2023  Barrow IBP (Webber 1978, Villarreal et al. 2012)   \n",
      "2  1972, 1999, 2008, 2011  Barrow IBP (Webber 1978, Villarreal et al. 2012)   \n",
      "3  1972, 1999, 2008, 2010  Barrow IBP (Webber 1978, Villarreal et al. 2012)   \n",
      "\n",
      "                                          Surveyed_b       lat        lon  \\\n",
      "0  Patrick Webber, Sandra Villarreal & Craig Tweedie  71.29462  -156.6882   \n",
      "1  Patrick Webber, Sandra Villarreal & Craig Tweedie  71.29456  -156.6891   \n",
      "2  Patrick Webber, Sandra Villarreal & Craig Tweedie  71.29430  -156.6865   \n",
      "3  Patrick Webber, Sandra Villarreal & Craig Tweedie  71.29468  -156.6867   \n",
      "\n",
      "             System_for  ...  Date Year_surve Surveyed_1 Modified_2  \\\n",
      "0  Field community name  ...  None       None       None       None   \n",
      "1  Field community name  ...  None       None       None       None   \n",
      "2  Field community name  ...  None       None       None       None   \n",
      "3  Field community name  ...  None       None       None       None   \n",
      "\n",
      "  Marker_sym image_url4 image_url5             layer  \\\n",
      "0       None       None       None  06_Utqiagvik_IBP   \n",
      "1       None       None       None  06_Utqiagvik_IBP   \n",
      "2       None       None       None  06_Utqiagvik_IBP   \n",
      "3       None       None       None  06_Utqiagvik_IBP   \n",
      "\n",
      "                                                path  \\\n",
      "0  crs='EPSG:3857' crs='EPSG:3857' url='https://s...   \n",
      "1  crs='EPSG:3857' crs='EPSG:3857' url='https://s...   \n",
      "2  crs='EPSG:3857' crs='EPSG:3857' url='https://s...   \n",
      "3  crs='EPSG:3857' crs='EPSG:3857' url='https://s...   \n",
      "\n",
      "                                          Reflectanc  \n",
      "0  https://popo.jpl.nasa.gov/avng/y17/ang20170709...  \n",
      "1  https://popo.jpl.nasa.gov/avng/y17/ang20170709...  \n",
      "2  https://popo.jpl.nasa.gov/avng/y17/ang20170709...  \n",
      "3  https://popo.jpl.nasa.gov/avng/y17/ang20170709...  \n",
      "\n",
      "[4 rows x 33 columns]\n"
     ]
    }
   ],
   "source": [
    "# Get the layer from the shapefile\n",
    "layer = plot_site_shapefile.GetLayer()\n",
    "\n",
    "# Create an empty list to store feature attributes\n",
    "attribute_list = []\n",
    "\n",
    "# Get field names (attribute names)\n",
    "layer_definition = layer.GetLayerDefn()\n",
    "field_names = [layer_definition.GetFieldDefn(i).GetName() for i in range(layer_definition.GetFieldCount())]\n",
    "\n",
    "# Iterate over the features in the shapefile\n",
    "for feature in layer:\n",
    "    # Extract the attribute values for the feature\n",
    "    attributes = [feature.GetField(field) for field in field_names]\n",
    "    attribute_list.append(attributes)\n",
    "\n",
    "# Create a pandas DataFrame with the extracted attributes\n",
    "df = pd.DataFrame(attribute_list, columns=field_names)\n",
    "\n",
    "# Show the DataFrame (tabular format of the shapefile attributes)\n",
    "print(df)\n",
    "\n",
    "# Optionally, display the first few rows\n",
    "#df.head()"
   ]
  },
  {
   "cell_type": "code",
   "execution_count": 8,
   "metadata": {},
   "outputs": [],
   "source": [
    "plot_strips = False\n",
    "\n",
    "if plot_strips:\n",
    "    # Number of images\n",
    "    num_images = len(hsi_img_object)\n",
    "\n",
    "    # Define the number of rows and columns for the subplot grid (e.g., 2 rows, 3 columns for 6 images)\n",
    "    n_cols = 3  # Adjust this based on how you want to display them\n",
    "    n_rows = (num_images + n_cols - 1) // n_cols  # Calculate required rows\n",
    "\n",
    "    # Create subplots\n",
    "    fig, axes = plt.subplots(n_rows, n_cols, figsize=(15, 10))  # Adjust figsize to fit all images\n",
    "\n",
    "    # Flatten the axes array if there's more than 1 row\n",
    "    axes = axes.flatten()\n",
    "\n",
    "    # Iterate over folder names and GDAL objects in the dictionary\n",
    "    for idx, (folder_name, gdal_object) in enumerate(hsi_img_object.items()):\n",
    "        if gdal_object:\n",
    "            # Read the 57th band (red band)\n",
    "            img_red = gdal_object.GetRasterBand(57).ReadAsArray()\n",
    "\n",
    "            # Plot the image in the corresponding subplot\n",
    "            ax = axes[idx]\n",
    "            ax.imshow(img_red, vmin=0, vmax=0.1)\n",
    "            ax.set_title(f\"{folder_name}\", fontsize=8)\n",
    "            ax.set_xticks([])\n",
    "            ax.set_yticks([])\n",
    "\n",
    "            # Add a colorbar to each subplot (optional)\n",
    "            fig.colorbar(ax.imshow(img_red, vmin=0, vmax=0.1), ax=ax)\n",
    "        else:\n",
    "            ax.set_visible(False)  # Hide empty subplots if there are fewer images than subplots\n",
    "\n",
    "    # Adjust layout to prevent overlapping titles and colorbars\n",
    "    plt.tight_layout()\n",
    "\n",
    "    # Show the plot with all images\n",
    "    plt.show()\n"
   ]
  },
  {
   "cell_type": "code",
   "execution_count": 9,
   "metadata": {},
   "outputs": [
    {
     "name": "stderr",
     "output_type": "stream",
     "text": [
      "/var/folders/3m/0hcxmtys0jj01y_svh59k5fm0000gn/T/ipykernel_6431/90617595.py:39: FutureWarning: The behavior of DataFrame concatenation with empty or all-NA entries is deprecated. In a future version, this will no longer exclude empty or all-NA columns when determining the result dtypes. To retain the old behavior, exclude the relevant entries before the concat operation.\n",
      "  plot_site_pixel_coordinates = plot_site_pixel_coordinates._append({\"Subzone\" : subzone, \"Flightstrip\" : flightstrip, \"Modified_r\" : site, \"lon\" : lon, \"lat\" : lat, \"pixel_x\" : px, \"pixel_y\" : py},\n",
      "/var/folders/3m/0hcxmtys0jj01y_svh59k5fm0000gn/T/ipykernel_6431/90617595.py:39: FutureWarning: The behavior of DataFrame concatenation with empty or all-NA entries is deprecated. In a future version, this will no longer exclude empty or all-NA columns when determining the result dtypes. To retain the old behavior, exclude the relevant entries before the concat operation.\n",
      "  plot_site_pixel_coordinates = plot_site_pixel_coordinates._append({\"Subzone\" : subzone, \"Flightstrip\" : flightstrip, \"Modified_r\" : site, \"lon\" : lon, \"lat\" : lat, \"pixel_x\" : px, \"pixel_y\" : py},\n",
      "/var/folders/3m/0hcxmtys0jj01y_svh59k5fm0000gn/T/ipykernel_6431/90617595.py:39: FutureWarning: The behavior of DataFrame concatenation with empty or all-NA entries is deprecated. In a future version, this will no longer exclude empty or all-NA columns when determining the result dtypes. To retain the old behavior, exclude the relevant entries before the concat operation.\n",
      "  plot_site_pixel_coordinates = plot_site_pixel_coordinates._append({\"Subzone\" : subzone, \"Flightstrip\" : flightstrip, \"Modified_r\" : site, \"lon\" : lon, \"lat\" : lat, \"pixel_x\" : px, \"pixel_y\" : py},\n",
      "/var/folders/3m/0hcxmtys0jj01y_svh59k5fm0000gn/T/ipykernel_6431/90617595.py:39: FutureWarning: The behavior of DataFrame concatenation with empty or all-NA entries is deprecated. In a future version, this will no longer exclude empty or all-NA columns when determining the result dtypes. To retain the old behavior, exclude the relevant entries before the concat operation.\n",
      "  plot_site_pixel_coordinates = plot_site_pixel_coordinates._append({\"Subzone\" : subzone, \"Flightstrip\" : flightstrip, \"Modified_r\" : site, \"lon\" : lon, \"lat\" : lat, \"pixel_x\" : px, \"pixel_y\" : py},\n",
      "/var/folders/3m/0hcxmtys0jj01y_svh59k5fm0000gn/T/ipykernel_6431/90617595.py:39: FutureWarning: The behavior of DataFrame concatenation with empty or all-NA entries is deprecated. In a future version, this will no longer exclude empty or all-NA columns when determining the result dtypes. To retain the old behavior, exclude the relevant entries before the concat operation.\n",
      "  plot_site_pixel_coordinates = plot_site_pixel_coordinates._append({\"Subzone\" : subzone, \"Flightstrip\" : flightstrip, \"Modified_r\" : site, \"lon\" : lon, \"lat\" : lat, \"pixel_x\" : px, \"pixel_y\" : py},\n",
      "/var/folders/3m/0hcxmtys0jj01y_svh59k5fm0000gn/T/ipykernel_6431/90617595.py:39: FutureWarning: The behavior of DataFrame concatenation with empty or all-NA entries is deprecated. In a future version, this will no longer exclude empty or all-NA columns when determining the result dtypes. To retain the old behavior, exclude the relevant entries before the concat operation.\n",
      "  plot_site_pixel_coordinates = plot_site_pixel_coordinates._append({\"Subzone\" : subzone, \"Flightstrip\" : flightstrip, \"Modified_r\" : site, \"lon\" : lon, \"lat\" : lat, \"pixel_x\" : px, \"pixel_y\" : py},\n"
     ]
    }
   ],
   "source": [
    "flightstrip_transformation = {}\n",
    "\n",
    "for flightstrip in flightstrips:\n",
    "    # Print the EPSG code\n",
    "    hs_crs = helper_functions.return_hsi_projection(hsi_img_object[flightstrip])\n",
    "    #print(f\"EPSG Code Hyperspectral Image {flightstrip}: {hs_crs}\")\n",
    "    # shapefiles have a nested structure: layer(s) -> feature(s) -> geometry\n",
    "    \n",
    "    lyr = plot_site_shapefile.GetLayer() # get the only layer in the shapefile\n",
    "    feat = lyr.GetFeature(1)          # get the first feature in the layer (1 feature per site)\n",
    "    geom = feat.GetGeometryRef()      # get the feature's geometry\n",
    "\n",
    "    # get transform for decimal degrees\n",
    "    from_srs = lyr.GetSpatialRef()                                         # get shapefile srs def\n",
    "    to_srs = osr.SpatialReference()                                        # init ogr srs object\n",
    "    to_srs.ImportFromEPSG(int(hs_crs))                                     # import wgs84 srs def\n",
    "    xytransform = osr.CoordinateTransformation(from_srs,to_srs)            # get transform object\n",
    "\n",
    "    \n",
    "    # get UTM and lat/long coordinates for each of the sites\n",
    "    utm_coordinate_pairs = {}\n",
    "    ll_coordinate_pairs = {}\n",
    "\n",
    "    for feature in lyr:\n",
    "        geom = feature.GetGeometryRef()                                    # get site geometry\n",
    "        utm_coordinate_pairs[feature['Modified_r']] = (geom.GetX(), geom.GetY()) # get x,y utm coordinates \n",
    "        geom.Transform(xytransform)                                        # to wgs84\n",
    "        ll_coordinate_pairs[feature['Modified_r']] = (geom.GetX(), geom.GetY())  # get lon, lat\n",
    "\n",
    "    affine_transform = affine.Affine.from_gdal(*hsi_img_object[flightstrip].GetGeoTransform())     # affine forward transform\n",
    "    inverse_transform = ~affine_transform\n",
    "\n",
    "    plot_site_pixel_coordinates = pd.DataFrame(columns = [\"Subzone\", \"Flightstrip\", \"Modified_r\", \"lon\", \"lat\", \"pixel_x\", \"pixel_y\"])\n",
    "\n",
    "    for site, coords in ll_coordinate_pairs.items():\n",
    "        lon, lat = coords\n",
    "        px, py = inverse_transform * (lon, lat)                                    # apply to x,y coordinates\n",
    "        px, py = round(px), round(py)                                  # get new x,y as integers\n",
    "        plot_site_pixel_coordinates = plot_site_pixel_coordinates._append({\"Subzone\" : subzone, \"Flightstrip\" : flightstrip, \"Modified_r\" : site, \"lon\" : lon, \"lat\" : lat, \"pixel_x\" : px, \"pixel_y\" : py},\n",
    "            ignore_index = True)\n",
    "\n",
    "    flightstrip_transformation[flightstrip] = {\n",
    "        \"utm_coordinate_pairs\": utm_coordinate_pairs,\n",
    "        \"ll_coordinate_pairs\": ll_coordinate_pairs,\n",
    "        \"plot_site_pixel_coordinates\": plot_site_pixel_coordinates\n",
    "    }"
   ]
  },
  {
   "cell_type": "code",
   "execution_count": 10,
   "metadata": {},
   "outputs": [
    {
     "data": {
      "text/html": [
       "<div>\n",
       "<style scoped>\n",
       "    .dataframe tbody tr th:only-of-type {\n",
       "        vertical-align: middle;\n",
       "    }\n",
       "\n",
       "    .dataframe tbody tr th {\n",
       "        vertical-align: top;\n",
       "    }\n",
       "\n",
       "    .dataframe thead th {\n",
       "        text-align: right;\n",
       "    }\n",
       "</style>\n",
       "<table border=\"1\" class=\"dataframe\">\n",
       "  <thead>\n",
       "    <tr style=\"text-align: right;\">\n",
       "      <th></th>\n",
       "      <th>Subzone</th>\n",
       "      <th>Flightstrip</th>\n",
       "      <th>Modified_r</th>\n",
       "      <th>lon</th>\n",
       "      <th>lat</th>\n",
       "      <th>pixel_x</th>\n",
       "      <th>pixel_y</th>\n",
       "    </tr>\n",
       "  </thead>\n",
       "  <tbody>\n",
       "    <tr>\n",
       "      <th>0</th>\n",
       "      <td>subzone_c</td>\n",
       "      <td>ang20170709t224839rfl</td>\n",
       "      <td>1304</td>\n",
       "      <td>582729.601538</td>\n",
       "      <td>7.911838e+06</td>\n",
       "      <td>186</td>\n",
       "      <td>1107</td>\n",
       "    </tr>\n",
       "    <tr>\n",
       "      <th>1</th>\n",
       "      <td>subzone_c</td>\n",
       "      <td>ang20170709t224839rfl</td>\n",
       "      <td>1303</td>\n",
       "      <td>582697.923456</td>\n",
       "      <td>7.911830e+06</td>\n",
       "      <td>181</td>\n",
       "      <td>1104</td>\n",
       "    </tr>\n",
       "    <tr>\n",
       "      <th>2</th>\n",
       "      <td>subzone_c</td>\n",
       "      <td>ang20170709t224839rfl</td>\n",
       "      <td>208</td>\n",
       "      <td>582792.965712</td>\n",
       "      <td>7.911804e+06</td>\n",
       "      <td>191</td>\n",
       "      <td>1121</td>\n",
       "    </tr>\n",
       "    <tr>\n",
       "      <th>3</th>\n",
       "      <td>subzone_c</td>\n",
       "      <td>ang20170709t224839rfl</td>\n",
       "      <td>206</td>\n",
       "      <td>582783.561674</td>\n",
       "      <td>7.911846e+06</td>\n",
       "      <td>195</td>\n",
       "      <td>1113</td>\n",
       "    </tr>\n",
       "  </tbody>\n",
       "</table>\n",
       "</div>"
      ],
      "text/plain": [
       "     Subzone            Flightstrip Modified_r            lon           lat  \\\n",
       "0  subzone_c  ang20170709t224839rfl       1304  582729.601538  7.911838e+06   \n",
       "1  subzone_c  ang20170709t224839rfl       1303  582697.923456  7.911830e+06   \n",
       "2  subzone_c  ang20170709t224839rfl        208  582792.965712  7.911804e+06   \n",
       "3  subzone_c  ang20170709t224839rfl        206  582783.561674  7.911846e+06   \n",
       "\n",
       "  pixel_x pixel_y  \n",
       "0     186    1107  \n",
       "1     181    1104  \n",
       "2     191    1121  \n",
       "3     195    1113  "
      ]
     },
     "execution_count": 10,
     "metadata": {},
     "output_type": "execute_result"
    }
   ],
   "source": [
    "flightstrip_transformation[\"ang20170709t224839rfl\"][\"plot_site_pixel_coordinates\"]"
   ]
  },
  {
   "cell_type": "code",
   "execution_count": null,
   "metadata": {},
   "outputs": [],
   "source": [
    "for flightstrip in flightstrips:\n",
    "    print(flightstrip_transformation[flightstrip][\"plot_site_pixel_coordinates\"])\n",
    "    print(\"--------------------------------------------\")"
   ]
  },
  {
   "cell_type": "code",
   "execution_count": null,
   "metadata": {},
   "outputs": [],
   "source": [
    "for flightstrip in flightstrips:\n",
    "    # Extracting metadata keys and values\n",
    "    metadata_keys = hsi_img_object[flightstrip].GetMetadata().keys()\n",
    "    metadata_values = hsi_img_object[flightstrip].GetMetadata().values()\n",
    "\n",
    "\n",
    "    # Lists of band numbers and band centers\n",
    "    band_numbers = [\n",
    "        int(key.split(\"_\")[1])\n",
    "        for key in metadata_keys\n",
    "        if key != \"wavelength_units\"\n",
    "    ]\n",
    "\n",
    "    band_centers = [\n",
    "        float(value.split(\" \")[0])\n",
    "        for value in metadata_values\n",
    "        if value != \"Nanometers\"\n",
    "    ]\n",
    "\n",
    "    # Classify each band center\n",
    "    em_regions = [helper_functions.classify_band(b) for b in band_centers]\n",
    "\n",
    "\n",
    "    # get the reflectance values of the site (careful: these values are already sorted --> add to df after sort)\n",
    "    #testsite1_reflectance = img_open.ReadAsArray(px1,py1,1,1).flatten().tolist()\n",
    "    #testsite2_reflectance = img_open.ReadAsArray(px2,py2,1,1).flatten().tolist()\n",
    "\n",
    "\n",
    "    # Function to get reflectance for each site\n",
    "    def get_site_reflectance(px, py):\n",
    "        reflectance = hsi_img_object[flightstrip].ReadAsArray(px,py,1,1).flatten()\n",
    "        return reflectance\n",
    "\n",
    "    # Apply the function to each row and add the result as a new column\n",
    "    flightstrip_transformation[flightstrip][\"plot_site_pixel_coordinates\"][\"reflectance\"] = flightstrip_transformation[flightstrip][\"plot_site_pixel_coordinates\"].apply(lambda row: get_site_reflectance(row[\"pixel_x\"], row[\"pixel_y\"]), axis=1)\n"
   ]
  },
  {
   "cell_type": "code",
   "execution_count": null,
   "metadata": {},
   "outputs": [],
   "source": [
    "for flightstrip in flightstrips:\n",
    "    print(flightstrip_transformation[flightstrip][\"plot_site_pixel_coordinates\"])"
   ]
  },
  {
   "cell_type": "markdown",
   "metadata": {},
   "source": [
    "print(flightstrip_transformation[\"ang20190712t212749rfl\"][\"plot_site_pixel_coordinates\"][\"reflectance\"])\n",
    "print(flightstrip_transformation[\"ang20190712t212749rfl\"][\"plot_site_pixel_coordinates\"])\n",
    "print(flightstrip_transformation[\"ang20190712t212749rfl\"])"
   ]
  },
  {
   "cell_type": "code",
   "execution_count": null,
   "metadata": {},
   "outputs": [],
   "source": []
  },
  {
   "cell_type": "code",
   "execution_count": null,
   "metadata": {},
   "outputs": [],
   "source": [
    "# Initialize an empty list to store the DataFrames\n",
    "combined_dataframes = []\n",
    "\n",
    "# Loop through the list and accumulate the DataFrames\n",
    "for flightstrip in flightstrips:\n",
    "    combined_dataframes.append(flightstrip_transformation[flightstrip][\"plot_site_pixel_coordinates\"])\n",
    "\n",
    "# Concatenate all DataFrames at once\n",
    "combined_df = pd.concat(combined_dataframes, ignore_index=True)\n",
    "\n",
    "combined_df = combined_df.sort_values(by=['Modified_r'])\n",
    "\n",
    "combined_df.head(25)"
   ]
  },
  {
   "cell_type": "code",
   "execution_count": null,
   "metadata": {},
   "outputs": [],
   "source": [
    "\n"
   ]
  },
  {
   "cell_type": "code",
   "execution_count": null,
   "metadata": {},
   "outputs": [],
   "source": [
    "unique_plotsite_identifier_values = combined_df['Modified_r'].unique()"
   ]
  },
  {
   "cell_type": "code",
   "execution_count": null,
   "metadata": {},
   "outputs": [],
   "source": [
    "dataframe_array = {}\n",
    "\n",
    "# DataFrame describing bands\n",
    "bands = pd.DataFrame({\n",
    "    \"Band number\": band_numbers,\n",
    "    \"Band center (nm)\": band_centers,\n",
    "    \"EM region\": em_regions\n",
    "}, index=band_numbers).sort_index()\n",
    "\n",
    "for plotsite in unique_plotsite_identifier_values:\n",
    "    df_location = bands\n",
    "    # Iterate over rows\n",
    "    for row in combined_df[combined_df['Modified_r'] == plotsite].itertuples():\n",
    "        df_location[f\"{row.Flightstrip}_Reflectance\"] = row.reflectance\n",
    "\n",
    "    dataframe_array[f'df_{plotsite}'] = df_location"
   ]
  },
  {
   "cell_type": "code",
   "execution_count": null,
   "metadata": {},
   "outputs": [],
   "source": []
  },
  {
   "cell_type": "markdown",
   "metadata": {},
   "source": [
    "### Create a reflectance plot for the 2 test sites"
   ]
  },
  {
   "cell_type": "markdown",
   "metadata": {},
   "source": [
    "It can be seen that in the region of arround 1300 nanometer and towards the end we have a lot of noise. In the next step this will be removed manualy."
   ]
  },
  {
   "cell_type": "markdown",
   "metadata": {},
   "source": [
    "### Create a plot with noise bands removed"
   ]
  },
  {
   "cell_type": "code",
   "execution_count": null,
   "metadata": {},
   "outputs": [],
   "source": [
    "bblist = np.ones((425,))\n",
    "bblist[0:14] = 0\n",
    "bblist[189:225] = 0\n",
    "bblist[281:336] = 0\n",
    "bblist[405:] = 0\n",
    "\n",
    "titlefont = {'fontsize':16,'fontweight':2,\n",
    "             'verticalalignment':'baseline','horizontalalignment':'center'}\n",
    "plt.rcParams['figure.figsize'] = [16, 8]\n",
    "\n",
    "for plotsite in dataframe_array:\n",
    "    for series_name, series in dataframe_array[plotsite].items():\n",
    "        if(series_name == \"Band center (nm)\"):\n",
    "            wavelength_flightstrip = series\n",
    "            #print(series)\n",
    "        elif(\"_Reflectance\" in series_name):\n",
    "            pixel_flightstrip = dataframe_array[plotsite][series_name]\n",
    "            pixel_flightstrip = np.reshape(pixel_flightstrip,(425))\n",
    "            pixel_flightstrip[bblist == 0] = np.nan\n",
    "            pixel_flightstrip[pixel_flightstrip==-9999] = np.nan\n",
    "            plt.plot(wavelength_flightstrip, pixel_flightstrip,  label = series_name)\n",
    "            #print(f\"Plotsite {plotsite} flightstrip {series_name}\")\n",
    "        \n",
    "        plt.xlabel ( 'Wavelength [nm]', fontsize=20)\n",
    "        #plt.ylim(y_min, y_max)\n",
    "        plt.ylabel('Reflectance', fontsize=20)\n",
    "        plt.title(plotsite, fontdict = titlefont, pad = 10)\n",
    "        plt.grid()\n",
    "        plt.legend(loc='upper left', bbox_to_anchor=(1, 1), title='Sites', title_fontsize='13', fontsize='11', borderaxespad=0.)\n",
    "\n",
    "    plt.show()\n",
    "\n",
    "\n"
   ]
  },
  {
   "cell_type": "code",
   "execution_count": null,
   "metadata": {},
   "outputs": [],
   "source": [
    "dataframe_array"
   ]
  },
  {
   "cell_type": "code",
   "execution_count": null,
   "metadata": {},
   "outputs": [],
   "source": [
    "# remove a few band to reduce atmospheric noise \n",
    "wavelengths = bands[\"Band center (nm)\"]\n",
    "bblist = np.ones((425,))\n",
    "bblist[0:14] = 0\n",
    "bblist[189:225] = 0\n",
    "bblist[281:336] = 0\n",
    "bblist[405:] = 0\n",
    "\n",
    "\n",
    "titlefont = {'fontsize':16,'fontweight':2,\n",
    "             'verticalalignment':'baseline','horizontalalignment':'center'}\n",
    "plt.rcParams['figure.figsize'] = [16, 8]\n",
    "\n"
   ]
  },
  {
   "cell_type": "code",
   "execution_count": null,
   "metadata": {},
   "outputs": [],
   "source": [
    "pixel = dataframe_array[\"df_1304\"][\"ang20170709t224839rfl_Reflectance\"]\n",
    "pixel = np.reshape(pixel,(425))\n",
    "pixel[bblist == 0] = np.nan\n",
    "plt.plot(wavelengths, pixel,  label = \"df_1304\")"
   ]
  },
  {
   "cell_type": "code",
   "execution_count": null,
   "metadata": {},
   "outputs": [],
   "source": [
    "pixel"
   ]
  },
  {
   "cell_type": "code",
   "execution_count": null,
   "metadata": {},
   "outputs": [],
   "source": [
    "# Iterate over rows\n",
    "for row in plot_site_pixel_coordinates.itertuples():\n",
    "    pixel = img_open.ReadAsArray(row.pixel_x, row.pixel_y, 1, 1)\n",
    "    pixel = np.reshape(pixel,(425))\n",
    "    pixel[bblist == 0] = np.nan\n",
    "    plt.plot(wavelengths, pixel,  label = row.Modified_r)\n",
    "\n",
    "plt.xlabel ( 'Wavelength [nm]', fontsize=20)\n",
    "#plt.ylim(y_min, y_max)\n",
    "plt.ylabel('Reflectance', fontsize=20)\n",
    "plt.title(\"Test sites reflectance\", fontdict = titlefont, pad = 10)\n",
    "plt.grid()\n",
    "plt.legend(loc='upper left', bbox_to_anchor=(1, 1), title='Sites', title_fontsize='13', fontsize='11', borderaxespad=0.)\n",
    "\n",
    "\n",
    "plt.show()"
   ]
  },
  {
   "cell_type": "markdown",
   "metadata": {},
   "source": [
    "### Create the same plot with wavelength indicators"
   ]
  },
  {
   "cell_type": "code",
   "execution_count": null,
   "metadata": {},
   "outputs": [],
   "source": [
    "%matplotlib inline\n",
    "titlefont = {'fontsize':16,'fontweight':2,\n",
    "             'verticalalignment':'baseline','horizontalalignment':'center'}\n",
    "plt.rcParams['figure.figsize'] = [16, 8]\n",
    "\n",
    "# Iterate over rows\n",
    "for row in plot_site_pixel_coordinates.itertuples():\n",
    "    pixel = img_open.ReadAsArray(row.pixel_x, row.pixel_y, 1, 1)\n",
    "    pixel = np.reshape(pixel,(425))\n",
    "    pixel[bblist == 0] = np.nan\n",
    "    plt.plot(wavelengths, pixel,  label = row.Modified_r)\n",
    "\n",
    "\n",
    "# add shaders for band regions\n",
    "for region,limits in band_dictionary.items():\n",
    "    plt.axvspan(limits['lower'], limits['upper'], alpha=0.7, color=limits['color'], label=region)\n",
    "        \n",
    "# add water vapor region shaders\n",
    "plt.axvspan(1320, 1500, alpha=0.2, color='blue', label='water vapor regions')\n",
    "plt.axvspan(1780, 2055, alpha=0.2, color='blue')\n",
    "    \n",
    "# some plotting config\n",
    "#plt.ylim(y_min,y_max)\n",
    "#plt.xlim(min(wavelengths),max(wavelengths))\n",
    "plt.ylabel(\"reflectance\", fontsize=16)\n",
    "plt.xlabel(\"wavelength [nm]\", fontsize=16)\n",
    "plt.tick_params(axis='both', which='major', labelsize=14)\n",
    "plt.grid('on', alpha=0.4)\n",
    "plt.title(\"Test sites reflectance\", fontdict = titlefont, pad = 10)\n",
    "\n",
    "# now add custom legend\n",
    "plt.legend(loc='upper left', bbox_to_anchor=(1, 1), title='Sites', title_fontsize='13', fontsize='11', borderaxespad=0.)"
   ]
  },
  {
   "cell_type": "code",
   "execution_count": null,
   "metadata": {},
   "outputs": [],
   "source": []
  }
 ],
 "metadata": {
  "kernelspec": {
   "display_name": "base",
   "language": "python",
   "name": "python3"
  },
  "language_info": {
   "codemirror_mode": {
    "name": "ipython",
    "version": 3
   },
   "file_extension": ".py",
   "mimetype": "text/x-python",
   "name": "python",
   "nbconvert_exporter": "python",
   "pygments_lexer": "ipython3",
   "version": "3.11.7"
  }
 },
 "nbformat": 4,
 "nbformat_minor": 2
}
