{
 "cells": [
  {
   "cell_type": "code",
   "execution_count": null,
   "metadata": {},
   "outputs": [],
   "source": [
    "import pandas as pd\n",
    "import numpy as np\n",
    "import matplotlib.pyplot as plt\n",
    "import matplotlib.gridspec as gridspec\n",
    "from osgeo import gdal,ogr,osr"
   ]
  },
  {
   "cell_type": "code",
   "execution_count": 1,
   "metadata": {},
   "outputs": [],
   "source": [
    "import numpy as np\n",
    "from osgeo import gdal, gdal_array\n",
    "from sklearn.preprocessing import StandardScaler\n",
    "from sklearn.decomposition import PCA\n",
    "import matplotlib.pyplot as plt\n",
    "\n",
    "# Step 1: Load your image using GDAL\n",
    "img_file = \"input/ang20180812t232708rfl/ang20180812t232708_rfl_v2r2_img\"\n",
    "hdr_file = \"input/ang20180812t232708rfl/ang20180812t232708_rfl_v2r2_img.hdr\"\n",
    "img_open = gdal.Open(img_file)\n",
    "\n",
    "# Step 2: Read the number of bands, width, and height\n",
    "nbands = img_open.RasterCount  # Number of bands (425 in your case)\n",
    "ncols = img_open.RasterXSize   # Width of the image (9426 in your case)\n",
    "nrows = img_open.RasterYSize   # Height of the image (659 in your case)\n",
    "\n",
    "# Step 3: Read all bands into a 3D NumPy array\n",
    "# Initialize an empty NumPy array of shape (nbands, nrows, ncols)\n",
    "img_array = np.zeros((nbands, nrows, ncols), dtype=np.float32)\n",
    "\n",
    "# Loop through each band and read it into the array\n",
    "for i in range(nbands):\n",
    "    band = img_open.GetRasterBand(i + 1)  # Band indices in GDAL start from 1\n",
    "    img_array[i, :, :] = band.ReadAsArray()\n",
    "\n",
    "# Now, img_array has the shape (425, 659, 9426)\n",
    "\n",
    "# alternatively\n",
    "# Read raster data as numeric array from file\n",
    "#rasterArray = gdal_array.LoadFile(img_file)\n"
   ]
  },
  {
   "cell_type": "code",
   "execution_count": 14,
   "metadata": {},
   "outputs": [],
   "source": [
    "# Step 4: Reshape the array from (nbands, nrows, ncols) to (nrows * ncols, nbands)\n",
    "reshaped_img = img_array.reshape((nbands, nrows * ncols)).T  # Shape: (659 * 9426, 425)"
   ]
  },
  {
   "cell_type": "code",
   "execution_count": 15,
   "metadata": {},
   "outputs": [],
   "source": [
    "# Step 5: Standardize the data\n",
    "scaler = StandardScaler()\n",
    "standardized_img = scaler.fit_transform(reshaped_img)"
   ]
  },
  {
   "cell_type": "code",
   "execution_count": 18,
   "metadata": {},
   "outputs": [],
   "source": [
    "# Step 6: Apply PCA\n",
    "pca = PCA(n_components=0.95)  # Keep enough components to explain 95% variance\n",
    "pca_img = pca.fit_transform(standardized_img)\n",
    "\n",
    "# Step 7: Reshape back to the image format with reduced components\n",
    "n_components = pca_img.shape[1]  # Number of principal components\n",
    "reduced_img = pca_img.reshape((nrows, ncols, n_components))  # Shape: (659, 9426, n_components)\n",
    "\n",
    "# Step 8: Visualize the first 3 principal components as an RGB image\n",
    "plt.imshow(reduced_img[:, :, :3])  # Display the first 3 components as RGB\n",
    "plt.show()"
   ]
  },
  {
   "cell_type": "code",
   "execution_count": null,
   "metadata": {},
   "outputs": [],
   "source": [
    "import numpy as np\n",
    "from osgeo import gdal\n",
    "from sklearn.decomposition import PCA\n",
    "from sklearn.impute import SimpleImputer\n",
    "from sklearn.preprocessing import StandardScaler\n",
    "import matplotlib.pyplot as plt\n",
    "\n",
    "# Step 1: Open the hyperspectral image\n",
    "img_file = \"input/ang20180812t232708rfl/ang20180812t232708_rfl_v2r2_img\"\n",
    "img_open = gdal.Open(img_file)\n",
    "\n",
    "# Read image bands into a NumPy array (nbands, nrows, ncols)\n",
    "nbands = img_open.RasterCount\n",
    "ncols = img_open.RasterXSize\n",
    "nrows = img_open.RasterYSize\n",
    "\n",
    "# Create a NumPy array and read all bands into it\n",
    "img_array = np.zeros((nbands, nrows, ncols), dtype=np.float32)\n",
    "for i in range(nbands):\n",
    "    band = img_open.GetRasterBand(i + 1)\n",
    "    img_array[i, :, :] = band.ReadAsArray()\n",
    "\n",
    "# Step 2: Reshape to (nrows * ncols, nbands)\n",
    "reshaped_img = img_array.reshape((nbands, nrows * ncols)).T\n",
    "\n",
    "# Step 3: Replace -9999 with NaN\n",
    "reshaped_img[reshaped_img == -9999] = np.nan\n",
    "\n",
    "# Step 4: Impute NaN values with the mean of the bands (or other strategies)\n",
    "imputer = SimpleImputer(strategy='mean')  # You could use 'median' or 'most_frequent'\n",
    "imputed_img = imputer.fit_transform(reshaped_img)\n",
    "\n",
    "# Step 5: Standardize the data (important for PCA to work properly)\n",
    "scaler = StandardScaler()\n",
    "standardized_img = scaler.fit_transform(imputed_img)\n",
    "\n",
    "# Step 6: Perform PCA\n",
    "pca = PCA(n_components=0.95)  # Keep enough components to explain 95% of the variance\n",
    "pca_img = pca.fit_transform(standardized_img)\n",
    "\n",
    "# Step 7: Reshape back to the image format for visualization\n",
    "n_components = pca_img.shape[1]\n",
    "reduced_img = pca_img.reshape((nrows, ncols, n_components))\n",
    "\n",
    "# Visualize the first 3 components as an RGB image (optional)\n",
    "plt.imshow(reduced_img[:, :, :3])\n",
    "plt.title('First 3 Principal Components as RGB')\n",
    "plt.show()\n",
    "\n",
    "# You can further analyze or visualize the PCA results\n"
   ]
  }
 ],
 "metadata": {
  "kernelspec": {
   "display_name": "base",
   "language": "python",
   "name": "python3"
  },
  "language_info": {
   "codemirror_mode": {
    "name": "ipython",
    "version": 3
   },
   "file_extension": ".py",
   "mimetype": "text/x-python",
   "name": "python",
   "nbconvert_exporter": "python",
   "pygments_lexer": "ipython3",
   "version": "3.11.7"
  }
 },
 "nbformat": 4,
 "nbformat_minor": 2
}
