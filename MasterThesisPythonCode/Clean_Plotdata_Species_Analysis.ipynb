{
 "cells": [
  {
   "cell_type": "code",
   "execution_count": 2,
   "metadata": {},
   "outputs": [],
   "source": [
    "import numpy as np\n",
    "import pandas as pd\n",
    "import rasterio\n",
    "import matplotlib.pyplot as plt\n",
    "import seaborn as sns\n",
    "import folium\n",
    "from folium.plugins import HeatMap\n",
    "from sklearn.preprocessing import normalize"
   ]
  },
  {
   "cell_type": "code",
   "execution_count": 8,
   "metadata": {},
   "outputs": [],
   "source": [
    "\n",
    "# Clean the environment (Python doesn't require explicit cleaning)\n",
    "# Load Data\n",
    "shannon_img_path = '../SpectralPatang/data/ang20190706t235120rfl/result/ang20190706t235120_rfl_v2v2_img_rectified/SPCA/PCA/OutputPCA_30_PCs_selection_cut.tif'\n",
    "csv_path = \"../SpectralPatang/data/ang20190706t235120rfl/clustertest/data/species_analysis/06_Utqiagvik_IBP_R_Input.csv\"\n"
   ]
  },
  {
   "cell_type": "code",
   "execution_count": 9,
   "metadata": {},
   "outputs": [],
   "source": [
    "# Read raster image\n",
    "with rasterio.open(shannon_img_path) as src:\n",
    "    shannon_img = src.read(1)  # Read the first band"
   ]
  },
  {
   "cell_type": "code",
   "execution_count": 10,
   "metadata": {},
   "outputs": [],
   "source": [
    "# Read and clean the CSV\n",
    "plot_data = pd.read_csv(csv_path)\n",
    "plot_data.replace(-9, np.nan, inplace=True)  # Replace -9 with NaN"
   ]
  },
  {
   "cell_type": "code",
   "execution_count": null,
   "metadata": {},
   "outputs": [],
   "source": [
    "# Dynamically select \"Releve number\", \"Number of species\", and all species columns\n",
    "species_start_idx = plot_data.columns.get_loc('Number of species') + 1\n",
    "selected_data = plot_data.iloc[:, [0, species_start_idx - 1] + list(range(species_start_idx, plot_data.shape[1]))]\n",
    "\n",
    "# Separate species table\n",
    "species_table = selected_data.iloc[:, 2:]\n",
    "species_table.fillna(0, inplace=True)  # Replace NaN with 0\n",
    "\n",
    "# Normalize species data so that rows sum to 1\n",
    "species_table_normalized = species_table.div(species_table.sum(axis=1), axis=0)\n",
    "\n",
    "# Calculate Shannon Diversity Index\n",
    "def shannon_index(row):\n",
    "    row_nonzero = row[row > 0]  # Avoid log(0)\n",
    "    return -np.sum(row_nonzero * np.log(row_nonzero))\n",
    "\n",
    "plot_data['Shannon_Index'] = species_table_normalized.apply(shannon_index, axis=1)\n",
    "\n",
    "# ** Static Map of Shannon Diversity **\n",
    "plt.figure(figsize=(10, 6))\n",
    "sns.scatterplot(data=plot_data, x=\"Longitude\", y=\"Latitude\", hue=\"Shannon_Index\", palette=\"plasma\", s=100)\n",
    "plt.title(\"Shannon Diversity Index Map\")\n",
    "plt.xlabel(\"Longitude\")\n",
    "plt.ylabel(\"Latitude\")\n",
    "plt.colorbar(label=\"Shannon Index\")\n",
    "plt.show()\n",
    "\n",
    "# ** Interactive Map with Folium **\n",
    "m = folium.Map(location=[plot_data['Latitude'].mean(), plot_data['Longitude'].mean()], zoom_start=10)\n",
    "\n",
    "# Add points to map\n",
    "for _, row in plot_data.iterrows():\n",
    "    folium.CircleMarker(\n",
    "        location=(row['Latitude'], row['Longitude']),\n",
    "        radius=5,\n",
    "        color='blue',\n",
    "        fill=True,\n",
    "        fill_opacity=0.8,\n",
    "        popup=f\"<b>Releve number:</b> {row['Releve number']}<br><b>Shannon Index:</b> {row['Shannon_Index']:.2f}\"\n",
    "    ).add_to(m)\n",
    "\n",
    "# Add raster image as heatmap overlay\n",
    "heat_data = [[row['Latitude'], row['Longitude'], row['Shannon_Index']] for _, row in plot_data.iterrows()]\n",
    "HeatMap(heat_data).add_to(m)\n",
    "\n",
    "# Save map\n",
    "m.save('shannon_map.html')\n",
    "\n",
    "# ** Plot Comparison with ENVI File **\n",
    "# Simulate ENVI Shannon Index Values for demonstration\n",
    "envi_shannon_values = np.linspace(min(plot_data['Shannon_Index']), max(plot_data['Shannon_Index']), len(plot_data))\n",
    "\n",
    "comparison_df = pd.DataFrame({\n",
    "    \"Ground\": plot_data['Shannon_Index'],\n",
    "    \"ENVI\": envi_shannon_values\n",
    "})\n",
    "\n",
    "# Scatter Plot: ENVI vs Ground Shannon Index\n",
    "plt.figure(figsize=(10, 6))\n",
    "sns.scatterplot(x=comparison_df['Ground'], y=comparison_df['ENVI'], color='blue', s=50, alpha=0.7)\n",
    "plt.plot([0, 1], [0, 1], transform=plt.gca().transAxes, linestyle=\"--\", color=\"red\", label=\"Equality Line\")\n",
    "plt.title(\"Comparison of Shannon Index Values\")\n",
    "plt.xlabel(\"Calculated Shannon Index\")\n",
    "plt.ylabel(\"ENVI File Shannon Index\")\n",
    "plt.legend()\n",
    "plt.show()\n",
    "\n",
    "# ** Density Comparison **\n",
    "melted_df = pd.melt(comparison_df, var_name=\"Source\", value_name=\"Shannon_Index\")\n",
    "\n",
    "plt.figure(figsize=(10, 6))\n",
    "sns.kdeplot(data=melted_df, x=\"Shannon_Index\", hue=\"Source\", fill=True, alpha=0.5, palette=[\"blue\", \"green\"])\n",
    "plt.title(\"Density Comparison of Shannon Index Values\")\n",
    "plt.xlabel(\"Shannon Index\")\n",
    "plt.ylabel(\"Density\")\n",
    "plt.show()"
   ]
  }
 ],
 "metadata": {
  "kernelspec": {
   "display_name": "gpu_env",
   "language": "python",
   "name": "python3"
  },
  "language_info": {
   "codemirror_mode": {
    "name": "ipython",
    "version": 3
   },
   "file_extension": ".py",
   "mimetype": "text/x-python",
   "name": "python",
   "nbconvert_exporter": "python",
   "pygments_lexer": "ipython3",
   "version": "3.10.13"
  }
 },
 "nbformat": 4,
 "nbformat_minor": 2
}
