{
 "cells": [
  {
   "cell_type": "code",
   "execution_count": 3,
   "metadata": {},
   "outputs": [
    {
     "name": "stdout",
     "output_type": "stream",
     "text": [
      "Square shapefile created and saved to ~/Documents/GitHub/UWW200_Master_Thesis_public/SpectralPatang/test_cut_shp/output_square_python.shp\n"
     ]
    }
   ],
   "source": [
    "import geopandas as gpd\n",
    "import shapely.geometry\n",
    "import os\n",
    "\n",
    "def create_square_from_points(input_file, output_file):\n",
    "    # Read the input file (GeoJSON or shapefile)\n",
    "    gdf = gpd.read_file(input_file)\n",
    "        \n",
    "    # Ensure that the GeoDataFrame contains only points\n",
    "    if not all(gdf.geometry.geom_type == \"Point\"):\n",
    "        raise ValueError(\"The input file does not contain only Point geometries.\")\n",
    "    \n",
    "    # Reproject to a projected CRS (UTM or other suitable for the area)\n",
    "    projected_gdf = gdf.to_crs(epsg=32633)  # Replace EPSG:32633 with an appropriate UTM zone for your data\n",
    "    \n",
    "    # Compute the centroid of all points\n",
    "    centroid = projected_gdf.unary_union.centroid\n",
    "        \n",
    "    # Calculate the maximum distance from the centroid to any point\n",
    "    max_distance = projected_gdf.geometry.distance(centroid).max()\n",
    "        \n",
    "    # Define the side length of the square (twice the max distance)\n",
    "    side_length = 2 * max_distance\n",
    "        \n",
    "    # Create the square polygon\n",
    "    square = shapely.geometry.box(\n",
    "        centroid.x - side_length / 2, centroid.y - side_length / 2,\n",
    "        centroid.x + side_length / 2, centroid.y + side_length / 2\n",
    "    )\n",
    "        \n",
    "    # Create a new GeoDataFrame for the square\n",
    "    square_gdf = gpd.GeoDataFrame({'geometry': [square]}, crs=projected_gdf.crs)\n",
    "    \n",
    "    # Reproject the square back to the original CRS (if needed)\n",
    "    square_gdf = square_gdf.to_crs(gdf.crs)\n",
    "        \n",
    "    # Save the square as a shapefile\n",
    "    square_gdf.to_file(output_file, driver='ESRI Shapefile')\n",
    "\n",
    "if __name__ == \"__main__\":\n",
    "    input_file = \"~/Documents/GitHub/UWW200_Master_Thesis_public/SpectralPatang/test_cut_shp/14_Flux_Towers_Zona.shp\"  # or \"path/to/your/input.shp\"\n",
    "    output_file = \"~/Documents/GitHub/UWW200_Master_Thesis_public/SpectralPatang/test_cut_shp/output_square_python.shp\"\n",
    "        \n",
    "    create_square_from_points(input_file, output_file)\n",
    "    print(f\"Square shapefile created and saved to {output_file}\")\n"
   ]
  },
  {
   "cell_type": "code",
   "execution_count": null,
   "metadata": {},
   "outputs": [],
   "source": []
  }
 ],
 "metadata": {
  "kernelspec": {
   "display_name": "Python 3 (ipykernel)",
   "language": "python",
   "name": "python3"
  },
  "language_info": {
   "codemirror_mode": {
    "name": "ipython",
    "version": 3
   },
   "file_extension": ".py",
   "mimetype": "text/x-python",
   "name": "python",
   "nbconvert_exporter": "python",
   "pygments_lexer": "ipython3",
   "version": "3.10.13"
  }
 },
 "nbformat": 4,
 "nbformat_minor": 4
}
