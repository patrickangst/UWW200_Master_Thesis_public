{
 "cells": [
  {
   "cell_type": "code",
   "execution_count": 1,
   "metadata": {},
   "outputs": [],
   "source": [
    "import geopandas as gpd\n",
    "from shapely.geometry import Polygon\n",
    "import pyproj\n",
    "import math\n",
    "import os\n",
    "import zipfile\n",
    "import numpy as np"
   ]
  },
  {
   "cell_type": "code",
   "execution_count": 2,
   "metadata": {},
   "outputs": [],
   "source": [
    "def create_bounding_square_shapefile(input_shapefile, buffer_m=10):\n",
    "    \"\"\"\n",
    "    Create a square shapefile that fully covers all points in an input shapefile,\n",
    "    with an additional buffer.\n",
    "\n",
    "    Parameters:\n",
    "    - input_shapefile: Path to the input point shapefile.\n",
    "    - buffer_m: Buffer in meters (default is 10m).\n",
    "\n",
    "    Returns:\n",
    "    - None\n",
    "    \"\"\"\n",
    "    # Load the point shapefile\n",
    "    gdf = gpd.read_file(input_shapefile)\n",
    "    \n",
    "    # Get the CRS from the input shapefile\n",
    "    input_crs = gdf.crs\n",
    "    if input_crs is None:\n",
    "        raise ValueError(\"The input shapefile has no defined CRS.\")\n",
    "    \n",
    "    # Ensure it contains only point geometries\n",
    "    if not all(gdf.geometry.type == \"Point\"):\n",
    "        raise ValueError(\"The input shapefile must contain only Point geometries.\")\n",
    "    \n",
    "    # Compute centroid of all points\n",
    "    centroid = gdf.geometry.union_all().centroid  # Updated for GeoPandas 0.14+\n",
    "    center_x, center_y = centroid.x, centroid.y\n",
    "    \n",
    "    # Transform all points to projected CRS (if not already projected)\n",
    "    if input_crs.is_geographic:\n",
    "        utm_zone = (math.floor((center_x + 180) / 6) % 60) + 1\n",
    "        if center_y >= 0:\n",
    "            utm_crs = pyproj.CRS(f'EPSG:326{utm_zone:02d}')  # Northern hemisphere\n",
    "        else:\n",
    "            utm_crs = pyproj.CRS(f'EPSG:327{utm_zone:02d}')  # Southern hemisphere\n",
    "    else:\n",
    "        utm_crs = input_crs\n",
    "    \n",
    "    project_to_utm = pyproj.Transformer.from_crs(input_crs, utm_crs, always_xy=True).transform\n",
    "    project_to_input = pyproj.Transformer.from_crs(utm_crs, input_crs, always_xy=True).transform\n",
    "    \n",
    "    center_utm = project_to_utm(center_x, center_y)\n",
    "    \n",
    "    # Transform all points to UTM\n",
    "    gdf_utm = gdf.to_crs(utm_crs)\n",
    "    \n",
    "    # Compute max distance from centroid to any point\n",
    "    #centroid_utm = gdf_utm.geometry.unary_union.centroid\n",
    "    centroid_utm = gdf_utm.geometry.union_all().centroid\n",
    "\n",
    "    distances = gdf_utm.geometry.distance(centroid_utm)\n",
    "    if distances.isna().any():\n",
    "        raise ValueError(\"Distance calculation resulted in NaN values. Check input data.\")\n",
    "    max_distance = max(distances)\n",
    "    \n",
    "    # Compute square side length\n",
    "    side_length = 2 * (max_distance + buffer_m)  # Ensure square covers all points + buffer\n",
    "    \n",
    "    # Compute the four corners of the square in UTM coordinates\n",
    "    half_side = side_length / 2\n",
    "    square_utm_coords = [\n",
    "        (center_utm[0] - half_side, center_utm[1] - half_side),\n",
    "        (center_utm[0] + half_side, center_utm[1] - half_side),\n",
    "        (center_utm[0] + half_side, center_utm[1] + half_side),\n",
    "        (center_utm[0] - half_side, center_utm[1] + half_side),\n",
    "        (center_utm[0] - half_side, center_utm[1] - half_side)  # Ensure polygon closure\n",
    "    ]\n",
    "    \n",
    "    # Validate UTM coordinates\n",
    "    if any(np.isnan(coord[0]) or np.isnan(coord[1]) for coord in square_utm_coords):\n",
    "        raise ValueError(\"Generated square contains NaN values. Check UTM transformations.\")\n",
    "    \n",
    "    square_utm = Polygon(square_utm_coords)\n",
    "    \n",
    "    # Convert the square back to the original CRS\n",
    "    square_input_coords = [project_to_input(x, y) for x, y in square_utm.exterior.coords]\n",
    "    square_input = Polygon(square_input_coords)\n",
    "    \n",
    "    # Validate final polygon\n",
    "    if not square_input.is_valid:\n",
    "        raise ValueError(\"Generated square is invalid after re-projection. Check calculations.\")\n",
    "    \n",
    "    # Create GeoDataFrame\n",
    "    gdf_square = gpd.GeoDataFrame(index=[0], crs=input_crs, geometry=[square_input])\n",
    "    \n",
    "    \n",
    "    # Extract the directory containing the file\n",
    "    input_filename = os.path.splitext(os.path.basename(input_shapefile))[0]\n",
    "    print(f'input_filename: {input_filename}')\n",
    "\n",
    "    output_folder_path = os.path.join(os.path.dirname(os.path.dirname(os.path.dirname(input_shapefile))),\"cut_shapefile\", f\"{input_filename}\")\n",
    "    print(f'output_folder_path: {output_folder_path}')\n",
    "\n",
    "\n",
    "    # Create output directory\n",
    "    os.makedirs(output_folder_path, exist_ok=True)\n",
    "    \n",
    "    # Define output file paths\n",
    "    shapefile_path = os.path.join(output_folder_path, f\"{input_filename}_cutshape.shp\")\n",
    "    zipfile_path = os.path.join(output_folder_path, f\"{input_filename}_cutshape.zip\")\n",
    "    \n",
    "    # Save to shapefile\n",
    "    gdf_square.to_file(shapefile_path)\n",
    "    print(f\"Bounding square shapefile saved to {shapefile_path}\")\n",
    "    \n",
    "    # Create a zip archive of the folder\n",
    "    with zipfile.ZipFile(zipfile_path, 'w') as zipf:\n",
    "        for root, _, files in os.walk(output_folder_path):\n",
    "            for file in files:\n",
    "                file_path = os.path.join(root, file)\n",
    "                arcname = os.path.relpath(file_path, output_folder_path)\n",
    "                zipf.write(file_path, arcname=arcname)\n",
    "    \n",
    "    print(f\"Zipfile created at {zipfile_path}\")"
   ]
  },
  {
   "cell_type": "code",
   "execution_count": 3,
   "metadata": {},
   "outputs": [
    {
     "name": "stdout",
     "output_type": "stream",
     "text": [
      "File exists: D:/MasterThesis/filnal_hs_data_folder/ang20180812t221620rfl/data/plotlocation_shapefile/FRST_AK_Plot1/FRST_AK_Plot1.shp\n"
     ]
    }
   ],
   "source": [
    "# Example usage:\n",
    "input_shapefile = \"D:/MasterThesis/filnal_hs_data_folder/ang20180812t221620rfl/data/plotlocation_shapefile/FRST_AK_Plot1/FRST_AK_Plot1.shp\"  # Replace with your actual shapefile\n",
    "# Check if files exist\n",
    "if os.path.exists(input_shapefile):\n",
    "    print(f\"File exists: {input_shapefile}\")\n",
    "else:\n",
    "    print(f\"File not found: {input_shapefile}\")"
   ]
  },
  {
   "cell_type": "code",
   "execution_count": 4,
   "metadata": {},
   "outputs": [
    {
     "name": "stdout",
     "output_type": "stream",
     "text": [
      "input_filename: FRST_AK_Plot1\n",
      "output_folder_path: D:/MasterThesis/filnal_hs_data_folder/ang20180812t221620rfl/data\\cut_shapefile\\FRST_AK_Plot1\n",
      "Bounding square shapefile saved to D:/MasterThesis/filnal_hs_data_folder/ang20180812t221620rfl/data\\cut_shapefile\\FRST_AK_Plot1\\FRST_AK_Plot1_cutshape.shp\n",
      "Zipfile created at D:/MasterThesis/filnal_hs_data_folder/ang20180812t221620rfl/data\\cut_shapefile\\FRST_AK_Plot1\\FRST_AK_Plot1_cutshape.zip\n"
     ]
    }
   ],
   "source": [
    "create_bounding_square_shapefile(input_shapefile, buffer_m=10)"
   ]
  },
  {
   "cell_type": "code",
   "execution_count": 5,
   "metadata": {},
   "outputs": [
    {
     "name": "stdout",
     "output_type": "stream",
     "text": [
      "D:/MasterThesis/filnal_hs_data_folder/ang20180812t221620rfl/data\n"
     ]
    }
   ],
   "source": [
    "input_shapefile = \"D:/MasterThesis/filnal_hs_data_folder/ang20180812t221620rfl/data/plotlocation_shapefile/FRST_AK_Plot1/FRST_AK_Plot1.shp\"\n",
    "parent_dir = os.path.dirname(os.path.dirname(os.path.dirname(input_shapefile)))\n",
    "print(parent_dir)"
   ]
  },
  {
   "cell_type": "code",
   "execution_count": 6,
   "metadata": {},
   "outputs": [
    {
     "name": "stdout",
     "output_type": "stream",
     "text": [
      "FRST_AK_Plot1\n"
     ]
    }
   ],
   "source": [
    "import os\n",
    "\n",
    "filepath = \"D:/MasterThesis/filnal_hs_data_folder/ang20180812t221620rfl/data/plotlocation_shapefile/FRST_AK_Plot1/FRST_AK_Plot1.shp\"\n",
    "\n",
    "# Extract the directory containing the file\n",
    "dirname = os.path.dirname(filepath)\n",
    "\n",
    "# Extract the filename without the extension\n",
    "filename = os.path.splitext(os.path.basename(filepath))\n",
    "\n",
    "# Print the filename\n",
    "print(filename[0])  # Output: FRST_AK_Plot1"
   ]
  },
  {
   "cell_type": "code",
   "execution_count": null,
   "metadata": {},
   "outputs": [],
   "source": []
  }
 ],
 "metadata": {
  "kernelspec": {
   "display_name": "geo_env",
   "language": "python",
   "name": "python3"
  },
  "language_info": {
   "codemirror_mode": {
    "name": "ipython",
    "version": 3
   },
   "file_extension": ".py",
   "mimetype": "text/x-python",
   "name": "python",
   "nbconvert_exporter": "python",
   "pygments_lexer": "ipython3",
   "version": "3.10.16"
  }
 },
 "nbformat": 4,
 "nbformat_minor": 2
}
