{
 "cells": [
  {
   "cell_type": "code",
   "execution_count": 1,
   "metadata": {},
   "outputs": [],
   "source": [
    "from osgeo import gdal,ogr,osr\n",
    "import numpy as np\n",
    "import torch\n",
    "import torch.nn as nn\n",
    "import torch.optim as optim\n",
    "from sklearn.model_selection import train_test_split\n",
    "import matplotlib.pyplot as plt\n",
    "import matplotlib.gridspec as gridspec\n",
    "import os"
   ]
  },
  {
   "cell_type": "code",
   "execution_count": null,
   "metadata": {},
   "outputs": [],
   "source": [
    "file = \"../aviris_data/subzone_d/d_ang20220709t214748rfl/data/hs_raw_image/ang20220709t214748_rfl_v2aa2_img\"\n",
    "hdr_file = f\"{file}.hdr\"\n",
    "# Check if files exist\n",
    "if os.path.exists(file):\n",
    "    print(f\"File exists: {file}\")\n",
    "else:\n",
    "    print(f\"File not found: {file}\")\n",
    "\n",
    "if os.path.exists(hdr_file):\n",
    "    print(f\"HDR File exists: {hdr_file}\")\n",
    "else:\n",
    "    print(f\"HDR File not found: {hdr_file}\")"
   ]
  },
  {
   "cell_type": "code",
   "execution_count": null,
   "metadata": {},
   "outputs": [],
   "source": [
    "# Step 1: Open the hyperspectral image\n",
    "img_file = file # Replace with your file path\n",
    "img_open = gdal.Open(img_file)\n",
    "\n",
    "# Step 2: Read the reflectance data (425 bands, 660 cols, 3647 rows)\n",
    "bands = img_open.RasterCount\n",
    "cols = img_open.RasterXSize\n",
    "rows = img_open.RasterYSize\n",
    "\n",
    "# Reading the reflectance data for each band (3D matrix of shape [bands, cols, rows])\n",
    "#reflectance_data = np.zeros((bands, rows, cols), dtype=np.float32)  # Fixed shape to [bands, rows, cols]\n",
    "\n",
    "reflectance_data = img_open.ReadAsArray()\n",
    "reflectance_data = np.where(reflectance_data == -9999, np.nan, reflectance_data)\n",
    "#for band in range(bands):\n",
    "#    reflectance_data[band] = img_open.GetRasterBand(band + 1).ReadAsArray()"
   ]
  }
 ],
 "metadata": {
  "kernelspec": {
   "display_name": "my_thesis_env",
   "language": "python",
   "name": "python3"
  },
  "language_info": {
   "codemirror_mode": {
    "name": "ipython",
    "version": 3
   },
   "file_extension": ".py",
   "mimetype": "text/x-python",
   "name": "python",
   "nbconvert_exporter": "python",
   "pygments_lexer": "ipython3",
   "version": "3.11.9"
  }
 },
 "nbformat": 4,
 "nbformat_minor": 2
}
