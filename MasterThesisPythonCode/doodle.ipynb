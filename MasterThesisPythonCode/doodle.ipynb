{
 "cells": [
  {
   "cell_type": "code",
   "execution_count": 1,
   "metadata": {},
   "outputs": [],
   "source": [
    "from osgeo import gdal,ogr,osr\n",
    "import numpy as np\n",
    "import torch\n",
    "import torch.nn as nn\n",
    "import torch.optim as optim\n",
    "from sklearn.model_selection import train_test_split\n",
    "import matplotlib.pyplot as plt\n",
    "import matplotlib.gridspec as gridspec\n",
    "import os"
   ]
  },
  {
   "cell_type": "code",
   "execution_count": null,
   "metadata": {},
   "outputs": [],
   "source": [
    "file = \"D:/MasterThesis/final_hs_data_folder/\"\n",
    "hdr_file = f\"{file}.hdr\"\n",
    "# Check if files exist\n",
    "if os.path.exists(file):\n",
    "    print(f\"File exists: {file}\")\n",
    "else:\n",
    "    print(f\"File not found: {file}\")\n",
    "\n",
    "if os.path.exists(hdr_file):\n",
    "    print(f\"HDR File exists: {hdr_file}\")\n",
    "else:\n",
    "    print(f\"HDR File not found: {hdr_file}\")"
   ]
  },
  {
   "cell_type": "code",
   "execution_count": null,
   "metadata": {},
   "outputs": [],
   "source": [
    "import numpy as np\n",
    "from osgeo import gdal\n",
    "import matplotlib.pyplot as plt\n",
    "import os\n",
    "\n",
    "file = \"test_data/Shannon_20\"\n",
    "hdr_file = f\"{file}.hdr\"\n",
    "# Check if files exist\n",
    "if os.path.exists(file):\n",
    "    print(f\"File exists: {file}\")\n",
    "else:\n",
    "    print(f\"File not found: {file}\")\n",
    "\n",
    "if os.path.exists(hdr_file):\n",
    "    print(f\"HDR File exists: {hdr_file}\")\n",
    "else:\n",
    "    print(f\"HDR File not found: {hdr_file}\")\n",
    "\n",
    "img_open = gdal.Open(file)\n",
    "\n",
    "# read a few key properties of the image\n",
    "nbands = img_open.RasterCount\n",
    "ncols = img_open.RasterXSize\n",
    "nrows = img_open.RasterYSize\n",
    "\n",
    "print(\"\\n\".join([\"Bands:\\t\"+str(nbands),\"Cols (RasterXSize):\\t\"+str(ncols),\"Rows (RasterYSize):\\t\"+str(nrows)]))\n",
    "\n",
    "# read and display\n",
    "shannon_diversity_map = img_open.ReadAsArray()\n",
    "#shannon_diversity_map = np.where(shannon_diversity_map == -9999, np.nan, img_red)\n",
    "plt.rcParams[\"figure.figsize\"] = [15,20]\n",
    "plt.rcParams[\"figure.dpi\"] = 100\n",
    "plt.imshow(shannon_diversity_map)\n",
    "plt.colorbar()\n",
    "plt.show()"
   ]
  }
 ],
 "metadata": {
  "kernelspec": {
   "display_name": "my_thesis_env",
   "language": "python",
   "name": "python3"
  },
  "language_info": {
   "codemirror_mode": {
    "name": "ipython",
    "version": 3
   },
   "file_extension": ".py",
   "mimetype": "text/x-python",
   "name": "python",
   "nbconvert_exporter": "python",
   "pygments_lexer": "ipython3",
   "version": "3.11.9"
  }
 },
 "nbformat": 4,
 "nbformat_minor": 2
}
