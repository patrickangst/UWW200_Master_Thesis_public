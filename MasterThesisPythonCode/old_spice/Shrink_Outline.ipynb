{
 "cells": [
  {
   "cell_type": "markdown",
   "metadata": {},
   "source": [
    "# Polynomial regression approach"
   ]
  },
  {
   "cell_type": "code",
   "execution_count": 1,
   "metadata": {},
   "outputs": [],
   "source": [
    "import rasterio\n",
    "from shapely.geometry import box\n",
    "from shapely.affinity import scale\n",
    "import geopandas as gpd"
   ]
  },
  {
   "cell_type": "code",
   "execution_count": 2,
   "metadata": {},
   "outputs": [],
   "source": [
    "# Load the image to get metadata and bounds\n",
    "img_file = \"../MasterThesisRCode/data/hs_raw_image/ang20190712t231624_rfl_v2v2_img\""
   ]
  },
  {
   "cell_type": "code",
   "execution_count": 4,
   "metadata": {},
   "outputs": [
    {
     "name": "stdout",
     "output_type": "stream",
     "text": [
      "Shapefile saved as shrunken_outline/reduced_outline.shp\n"
     ]
    }
   ],
   "source": [
    "with rasterio.open(img_file) as src:\n",
    "    # Get the image bounds and CRS\n",
    "    bounds = src.bounds\n",
    "    crs = src.crs\n",
    "\n",
    "# Create a polygon from the image bounds\n",
    "image_outline = box(bounds.left, bounds.bottom, bounds.right, bounds.top)\n",
    "\n",
    "# Shrink the outline by 10%\n",
    "reduced_outline = scale(image_outline, xfact=0.9, yfact=0.9, origin='center')\n",
    "\n",
    "# Convert to a GeoDataFrame with the reduced outline\n",
    "gdf = gpd.GeoDataFrame(geometry=[reduced_outline], crs=crs)\n",
    "\n",
    "# Save as shapefile\n",
    "output_shapefile = \"shrunken_outline/reduced_outline.shp\"\n",
    "gdf.to_file(output_shapefile)\n",
    "\n",
    "print(f\"Shapefile saved as {output_shapefile}\")"
   ]
  },
  {
   "cell_type": "code",
   "execution_count": null,
   "metadata": {},
   "outputs": [],
   "source": []
  }
 ],
 "metadata": {
  "kernelspec": {
   "display_name": "gpu_env",
   "language": "python",
   "name": "python3"
  },
  "language_info": {
   "codemirror_mode": {
    "name": "ipython",
    "version": 3
   },
   "file_extension": ".py",
   "mimetype": "text/x-python",
   "name": "python",
   "nbconvert_exporter": "python",
   "pygments_lexer": "ipython3",
   "version": "3.10.13"
  }
 },
 "nbformat": 4,
 "nbformat_minor": 2
}
