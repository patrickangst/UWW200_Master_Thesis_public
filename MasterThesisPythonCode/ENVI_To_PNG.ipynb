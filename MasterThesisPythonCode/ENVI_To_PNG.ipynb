{
 "cells": [
  {
   "cell_type": "code",
   "execution_count": 4,
   "metadata": {},
   "outputs": [],
   "source": [
    "import numpy as np\n",
    "from osgeo import gdal\n",
    "import matplotlib.pyplot as plt\n",
    "from PIL import Image\n",
    "import os"
   ]
  },
  {
   "cell_type": "code",
   "execution_count": 5,
   "metadata": {},
   "outputs": [
    {
     "name": "stdout",
     "output_type": "stream",
     "text": [
      "File exists: test_data/Shannon_20_Fullres\n",
      "HDR File exists: test_data/Shannon_20_Fullres.hdr\n"
     ]
    }
   ],
   "source": [
    "file = \"test_data/Shannon_20_Fullres\"\n",
    "hdr_file = f\"{file}.hdr\"\n",
    "# Check if files exist\n",
    "if os.path.exists(file):\n",
    "    print(f\"File exists: {file}\")\n",
    "else:\n",
    "    print(f\"File not found: {file}\")\n",
    "\n",
    "if os.path.exists(hdr_file):\n",
    "    print(f\"HDR File exists: {hdr_file}\")\n",
    "else:\n",
    "    print(f\"HDR File not found: {hdr_file}\")"
   ]
  },
  {
   "cell_type": "code",
   "execution_count": null,
   "metadata": {},
   "outputs": [
    {
     "name": "stdout",
     "output_type": "stream",
     "text": [
      "Original raster size: (1020, 1020)\n",
      "Min value: 0.0, Max value: 2.3112242221832275\n"
     ]
    },
    {
     "ename": "ValueError",
     "evalue": "shape mismatch: value array of shape (3,) could not be broadcast to indexing result of shape (630000,4)",
     "output_type": "error",
     "traceback": [
      "\u001b[1;31m---------------------------------------------------------------------------\u001b[0m",
      "\u001b[1;31mValueError\u001b[0m                                Traceback (most recent call last)",
      "Cell \u001b[1;32mIn[10], line 40\u001b[0m\n\u001b[0;32m     37\u001b[0m \u001b[38;5;66;03m# Handle NaNs *after* converting to RGB\u001b[39;00m\n\u001b[0;32m     38\u001b[0m \u001b[38;5;66;03m# This ensures that NaNs are handled correctly in the RGB image.\u001b[39;00m\n\u001b[0;32m     39\u001b[0m nan_mask \u001b[38;5;241m=\u001b[39m np\u001b[38;5;241m.\u001b[39misnan(shannon_diversity_map)  \u001b[38;5;66;03m# Create a mask of NaN values\u001b[39;00m\n\u001b[1;32m---> 40\u001b[0m \u001b[43mcolored_image\u001b[49m\u001b[43m[\u001b[49m\u001b[43mnan_mask\u001b[49m\u001b[43m]\u001b[49m \u001b[38;5;241m=\u001b[39m [\u001b[38;5;241m0\u001b[39m, \u001b[38;5;241m0\u001b[39m, \u001b[38;5;241m0\u001b[39m] \u001b[38;5;66;03m# Set NaN pixels to black (or any color you want)\u001b[39;00m\n\u001b[0;32m     42\u001b[0m \u001b[38;5;66;03m# --- End of key change ---\u001b[39;00m\n\u001b[0;32m     43\u001b[0m \n\u001b[0;32m     44\u001b[0m \n\u001b[0;32m     45\u001b[0m \u001b[38;5;66;03m# Save using PIL (no changes needed here, but good practice to include mode)\u001b[39;00m\n\u001b[0;32m     46\u001b[0m Image\u001b[38;5;241m.\u001b[39mfromarray(colored_image, mode\u001b[38;5;241m=\u001b[39m\u001b[38;5;124m\"\u001b[39m\u001b[38;5;124mRGBA\u001b[39m\u001b[38;5;124m\"\u001b[39m)\u001b[38;5;241m.\u001b[39msave(output_png)  \u001b[38;5;66;03m# Specify mode=\"RGB\"\u001b[39;00m\n",
      "\u001b[1;31mValueError\u001b[0m: shape mismatch: value array of shape (3,) could not be broadcast to indexing result of shape (630000,4)"
     ]
    }
   ],
   "source": [
    "# Open the ENVI file\n",
    "img_open = gdal.Open(file)\n",
    "\n",
    "# Read as NumPy array\n",
    "shannon_diversity_map = img_open.ReadAsArray()\n",
    "\n",
    "# Check raster size\n",
    "print(f\"Original raster size: {shannon_diversity_map.shape}\")\n",
    "\n",
    "# Handle NoData values (replace -9999 with NaN)\n",
    "shannon_diversity_map = np.where(shannon_diversity_map == -9999, np.nan, shannon_diversity_map)\n",
    "#shannon_diversity_map = np.where(shannon_diversity_map == 0, np.nan, shannon_diversity_map)\n",
    "\n",
    "# Debug: Check min/max values\n",
    "print(f\"Min value: {np.nanmin(shannon_diversity_map)}, Max value: {np.nanmax(shannon_diversity_map)}\")\n",
    "\n",
    "# If all values are NaN, exit\n",
    "if np.isnan(shannon_diversity_map).all():\n",
    "    raise ValueError(\"Error: The entire raster contains NaN values. Check your input file!\")\n",
    "\n",
    "# Normalize to 0-255\n",
    "min_val, max_val = np.nanmin(shannon_diversity_map), np.nanmax(shannon_diversity_map)\n",
    "normalized_map = (shannon_diversity_map - min_val) / (max_val - min_val) * 255\n",
    "\n",
    "# Convert to uint8, setting NaNs to 0 (black)\n",
    "normalized_map = np.nan_to_num(normalized_map, nan=0).astype(np.uint8)\n",
    "\n",
    "# Apply colormap (same as before)\n",
    "colormap = plt.get_cmap(\"turbo\")\n",
    "colored_image = colormap(normalized_map / 255.0)\n",
    "\n",
    "# --- Key Change: Convert RGBA to RGB *before* handling NaN values ---\n",
    "# This is the most important change!\n",
    "colored_image = (colored_image[:, :, :3] * 255).astype(np.uint8)\n",
    "#colored_image = (colored_image * 255).astype(np.uint8)  # Keep RGBA\n",
    "\n",
    "# Handle NaNs *after* converting to RGB\n",
    "# This ensures that NaNs are handled correctly in the RGB image.\n",
    "nan_mask = np.isnan(shannon_diversity_map)  # Create a mask of NaN values\n",
    "colored_image[nan_mask] = [0, 0, 0] # Set NaN pixels to black (or any color you want)\n",
    "\n",
    "# --- End of key change ---\n",
    "\n",
    "\n",
    "# Save using PIL (no changes needed here, but good practice to include mode)\n",
    "Image.fromarray(colored_image, mode=\"RGB\").save(output_png)  # Specify mode=\"RGB\"\n",
    "\n",
    "print(f\"Saved PNG: {output_png}\")\n"
   ]
  }
 ],
 "metadata": {
  "kernelspec": {
   "display_name": "geo_env",
   "language": "python",
   "name": "python3"
  },
  "language_info": {
   "codemirror_mode": {
    "name": "ipython",
    "version": 3
   },
   "file_extension": ".py",
   "mimetype": "text/x-python",
   "name": "python",
   "nbconvert_exporter": "python",
   "pygments_lexer": "ipython3",
   "version": "3.10.16"
  }
 },
 "nbformat": 4,
 "nbformat_minor": 2
}
