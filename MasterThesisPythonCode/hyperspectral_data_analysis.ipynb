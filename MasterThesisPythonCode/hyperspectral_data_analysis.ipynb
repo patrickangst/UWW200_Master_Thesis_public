{
 "cells": [
  {
   "cell_type": "code",
   "execution_count": 1,
   "metadata": {},
   "outputs": [],
   "source": [
    "from osgeo import gdal,ogr,osr\n",
    "import os\n",
    "import numpy as np\n",
    "import matplotlib.pyplot as plt\n",
    "#import spectral\n",
    "#import rasterio\n",
    "#import spectral.io.envi as envi\n",
    "#import json\n",
    "import math\n",
    "from math import sqrt\n",
    "import pandas as pd\n",
    "import geopandas as gpd\n",
    "import affine\n",
    "from affine import Affine\n",
    "import numpy as np\n",
    "from osgeo import gdal,ogr,osr\n",
    "from sklearn.metrics.pairwise import cosine_similarity\n",
    "import matplotlib.pyplot as plt\n",
    "from sklearn.cluster import KMeans\n",
    "from sklearn.preprocessing import normalize"
   ]
  },
  {
   "cell_type": "code",
   "execution_count": 2,
   "metadata": {},
   "outputs": [],
   "source": [
    "file = \"data/ang20180729t212542_rfl_v2r2_img\"\n",
    "hdr_file = f\"{file}.hdr\"\n",
    "output_dir = os.path.join(os.getcwd(),\"output\")"
   ]
  },
  {
   "cell_type": "code",
   "execution_count": null,
   "metadata": {},
   "outputs": [],
   "source": []
  },
  {
   "cell_type": "code",
   "execution_count": 3,
   "metadata": {},
   "outputs": [],
   "source": [
    "# Step 1: Open the hyperspectral image\n",
    "img_file = file # Replace with your file path\n",
    "img_open = gdal.Open(img_file)\n",
    "\n",
    "# Step 2: Read the reflectance data (425 bands, 660 cols, 3647 rows)\n",
    "bands = img_open.RasterCount\n",
    "cols = img_open.RasterXSize\n",
    "rows = img_open.RasterYSize\n",
    "\n",
    "# Reading the reflectance data for each band (3D matrix of shape [bands, cols, rows])\n",
    "#reflectance_data = np.zeros((bands, rows, cols), dtype=np.float32)  # Fixed shape to [bands, rows, cols]\n",
    "\n",
    "reflectance_data = img_open.ReadAsArray()\n",
    "reflectance_data = np.where(reflectance_data == -9999, np.nan, reflectance_data)\n",
    "#for band in range(bands):\n",
    "#    reflectance_data[band] = img_open.GetRasterBand(band + 1).ReadAsArray()"
   ]
  },
  {
   "cell_type": "code",
   "execution_count": 4,
   "metadata": {},
   "outputs": [
    {
     "data": {
      "text/plain": [
       "(425, 3647, 660)"
      ]
     },
     "execution_count": 4,
     "metadata": {},
     "output_type": "execute_result"
    }
   ],
   "source": [
    "reflectance_data.shape"
   ]
  },
  {
   "cell_type": "code",
   "execution_count": 5,
   "metadata": {},
   "outputs": [],
   "source": [
    "# Step 3: Reshape the data for similarity computation\n",
    "# Each pixel has a 1D vector of size 425 (number of bands), so we need to reshape\n",
    "# it into shape (num_pixels, num_bands), where each row corresponds to a pixel's reflectance\n",
    "pixels = reflectance_data.reshape((bands, -1)).T  # Shape: [num_pixels, 425]"
   ]
  },
  {
   "cell_type": "code",
   "execution_count": 6,
   "metadata": {},
   "outputs": [
    {
     "name": "stdout",
     "output_type": "stream",
     "text": [
      "NaNs in the original data: 79099725\n",
      "NaNs after removal: 0\n"
     ]
    }
   ],
   "source": [
    "# Step 4: Check for NaN values before attempting to remove\n",
    "print(f\"NaNs in the original data: {np.sum(np.isnan(pixels))}\")\n",
    "\n",
    "# Step 5: Remove rows (pixels) with any NaN values\n",
    "pixels_clean = pixels[~np.isnan(pixels).any(axis=1)]  # Remove rows with any NaN values\n",
    "\n",
    "# Step 6: Ensure no NaN values are left\n",
    "print(f\"NaNs after removal: {np.sum(np.isnan(pixels_clean))}\")"
   ]
  },
  {
   "cell_type": "code",
   "execution_count": 7,
   "metadata": {},
   "outputs": [
    {
     "data": {
      "text/plain": [
       "(2220903, 425)"
      ]
     },
     "execution_count": 7,
     "metadata": {},
     "output_type": "execute_result"
    }
   ],
   "source": [
    "pixels_clean.shape"
   ]
  },
  {
   "cell_type": "code",
   "execution_count": 8,
   "metadata": {},
   "outputs": [],
   "source": [
    "# Step 4: Normalize the data (Optional but recommended for cosine similarity)\n",
    "pixels_normalized = normalize(pixels_clean)"
   ]
  },
  {
   "cell_type": "code",
   "execution_count": 10,
   "metadata": {},
   "outputs": [
    {
     "name": "stdout",
     "output_type": "stream",
     "text": [
      "NaNs of pixels_normalized: 0\n"
     ]
    }
   ],
   "source": [
    "print(f\"NaNs of pixels_normalized: {np.sum(np.isnan(pixels_normalized))}\")"
   ]
  },
  {
   "cell_type": "code",
   "execution_count": 11,
   "metadata": {},
   "outputs": [
    {
     "ename": "",
     "evalue": "",
     "output_type": "error",
     "traceback": [
      "\u001b[1;31mThe Kernel crashed while executing code in the current cell or a previous cell. \n",
      "\u001b[1;31mPlease review the code in the cell(s) to identify a possible cause of the failure. \n",
      "\u001b[1;31mClick <a href='https://aka.ms/vscodeJupyterKernelCrash'>here</a> for more info. \n",
      "\u001b[1;31mView Jupyter <a href='command:jupyter.viewOutput'>log</a> for further details."
     ]
    }
   ],
   "source": [
    "# Step 5: Compute the Cosine Similarity Matrix between all pixels\n",
    "similarity_matrix = cosine_similarity(pixels_normalized)"
   ]
  },
  {
   "cell_type": "code",
   "execution_count": null,
   "metadata": {},
   "outputs": [],
   "source": [
    "# Step 6: Clustering similar pixels based on cosine similarity\n",
    "num_clusters = 5  # Define the number of clusters (similarity groups)\n",
    "kmeans = KMeans(n_clusters=num_clusters, random_state=0)\n",
    "labels = kmeans.fit_predict(similarity_matrix)"
   ]
  },
  {
   "cell_type": "code",
   "execution_count": null,
   "metadata": {},
   "outputs": [],
   "source": [
    "# Step 7: Reshape labels to match the image's spatial dimensions (rows, cols)\n",
    "labels_image = labels.reshape((rows, cols))  # Now labels should match the original image dimensions"
   ]
  },
  {
   "cell_type": "code",
   "execution_count": null,
   "metadata": {},
   "outputs": [],
   "source": [
    "# Step 8: Visualize the resulting clusters (grading of pixels)\n",
    "plt.figure(figsize=(10, 6))\n",
    "plt.imshow(labels_image, cmap='tab10')  # You can adjust the colormap\n",
    "plt.title(\"Pixel Similarity Grading (Cosine Similarity)\")\n",
    "plt.colorbar(label=\"Cluster ID\")\n",
    "plt.show()"
   ]
  },
  {
   "cell_type": "code",
   "execution_count": null,
   "metadata": {},
   "outputs": [],
   "source": [
    "# Step 9: Optionally, save the result (graded pixel clusters) to a new file\n",
    "# You can save the graded result back to a raster file (e.g., GeoTIFF)\n",
    "driver = gdal.GetDriverByName('GTiff')\n",
    "output_file = \"graded_image.tif\"\n",
    "out_dataset = driver.Create(output_file, cols, rows, 1, gdal.GDT_Int32)\n",
    "out_dataset.GetRasterBand(1).WriteArray(labels_image)\n",
    "out_dataset.SetGeoTransform(img_open.GetGeoTransform())\n",
    "out_dataset.SetProjection(img_open.GetProjection())\n",
    "out_dataset.FlushCache()"
   ]
  },
  {
   "cell_type": "code",
   "execution_count": null,
   "metadata": {},
   "outputs": [],
   "source": []
  },
  {
   "cell_type": "code",
   "execution_count": null,
   "metadata": {},
   "outputs": [],
   "source": []
  },
  {
   "cell_type": "code",
   "execution_count": null,
   "metadata": {},
   "outputs": [],
   "source": []
  },
  {
   "cell_type": "code",
   "execution_count": null,
   "metadata": {},
   "outputs": [],
   "source": []
  },
  {
   "cell_type": "code",
   "execution_count": null,
   "metadata": {},
   "outputs": [],
   "source": []
  },
  {
   "cell_type": "code",
   "execution_count": null,
   "metadata": {},
   "outputs": [],
   "source": []
  },
  {
   "cell_type": "code",
   "execution_count": null,
   "metadata": {},
   "outputs": [],
   "source": []
  },
  {
   "cell_type": "code",
   "execution_count": 10,
   "metadata": {},
   "outputs": [],
   "source": [
    "# open the hyperspectral image file with GDAL\n",
    "img_open = gdal.Open(file)"
   ]
  },
  {
   "cell_type": "code",
   "execution_count": 18,
   "metadata": {},
   "outputs": [],
   "source": [
    "uesche = img_open.ReadAsArray()"
   ]
  },
  {
   "cell_type": "code",
   "execution_count": null,
   "metadata": {},
   "outputs": [],
   "source": [
    "uesche.shape"
   ]
  },
  {
   "cell_type": "code",
   "execution_count": 20,
   "metadata": {},
   "outputs": [],
   "source": [
    "uesche = np.where(uesche == -9999, np.nan, uesche)"
   ]
  },
  {
   "cell_type": "code",
   "execution_count": 24,
   "metadata": {},
   "outputs": [],
   "source": [
    "pixel_reflectance = uesche[:, 800, 600]"
   ]
  },
  {
   "cell_type": "code",
   "execution_count": null,
   "metadata": {},
   "outputs": [],
   "source": [
    "# read a few key properties of the image\n",
    "nbands = img_open.RasterCount\n",
    "ncols = img_open.RasterXSize\n",
    "nrows = img_open.RasterYSize\n",
    "\n",
    "print(\"\\n\".join([\"Bands:\\t\"+str(nbands),\"Cols (x-axis):\\t\"+str(ncols),\"Rows (y-axis):\\t\"+str(nrows)]))"
   ]
  },
  {
   "cell_type": "code",
   "execution_count": null,
   "metadata": {},
   "outputs": [],
   "source": [
    "# read and display band 57 just to have a quick look at the image\n",
    "img_red = img_open.GetRasterBand(1).ReadAsArray()\n",
    "# Set no-data values (-9999) to NaN\n",
    "img_red = np.where(img_red == -9999, np.nan, img_red)\n",
    "plt.rcParams[\"figure.figsize\"] = [2,12]\n",
    "plt.rcParams[\"figure.dpi\"] = 100\n",
    "plt.imshow(img_red,vmin=0, vmax=0.1)\n",
    "plt.colorbar()\n",
    "plt.show()"
   ]
  },
  {
   "cell_type": "code",
   "execution_count": null,
   "metadata": {},
   "outputs": [],
   "source": [
    "# Read header file and get the metadata\n",
    "def read_envi_header(file_path):\n",
    "    metadata = {}\n",
    "    with open(file_path, \"r\") as f:\n",
    "        lines = f.readlines()\n",
    "        for line in lines:\n",
    "            if \" = \" in line:\n",
    "                key, value = line.strip().split(\" = \", 1)\n",
    "                metadata[key.strip()] = value.strip().strip('{}')\n",
    "            elif line.strip().endswith('}'):\n",
    "                # Multi-line metadata\n",
    "                key, value = lines[lines.index(line) - 1].strip().split(\" = \", 1)\n",
    "                metadata[key.strip()] += line.strip().strip('{}')\n",
    "    return metadata\n",
    "\n",
    "metadata = read_envi_header(hdr_file)\n",
    "metadata"
   ]
  },
  {
   "cell_type": "code",
   "execution_count": null,
   "metadata": {},
   "outputs": [],
   "source": [
    "# save a few key meta data features into variables\n",
    "map_info = metadata.get(\"map info\")\n",
    "print(f\"Map info: {map_info}\")\n",
    "\n",
    "samples = metadata.get(\"samples\")\n",
    "print(f\"Samples: {samples}\")\n",
    "\n",
    "wavelength = metadata.get(\"wavelength\")\n",
    "print(f\"Wavelength: {wavelength}\")"
   ]
  },
  {
   "cell_type": "code",
   "execution_count": null,
   "metadata": {},
   "outputs": [],
   "source": [
    "# define plot site file path and read as a geopandas df\n",
    "plot_site_input_dir = os.path.join(os.getcwd(),\"input\",\"32_Prudhoe_Bay_ARCSEES_Road_Study_0\")\n",
    "plot_site_file = os.path.join(plot_site_input_dir,\"32_Prudhoe_Bay_ARCSEES_Road_Study_0.shp\")\n",
    "print(plot_site_file)\n",
    "\n",
    "# open with ogr\n",
    "driver = ogr.GetDriverByName(\"ESRI Shapefile\")\n",
    "plot_sites = driver.Open(plot_site_file, 0)\n",
    "\n",
    "plot_sites_geojson = gpd.read_file(plot_site_file)\n",
    "plot_sites_geojson.head(5)"
   ]
  },
  {
   "cell_type": "code",
   "execution_count": null,
   "metadata": {},
   "outputs": [],
   "source": [
    "\n",
    "\n",
    "# Iterate using itertuples\n",
    "for row in plot_sites_geojson.itertuples():\n",
    "    print(f\"Index: {row.Index}\")\n",
    "    print(f\"Field_rele: {row.Field_rele}\")\n",
    "    print(f\"Modified_r: {row.Modified_r}\")\n",
    "    print(f\"Plant_comm: {row.Plant_comm}\")\n",
    "    print(f\"Habitat_Ty: {row.Habitat_Ty}\")\n",
    "    print(f\"Longitude: {row.lon}\")\n",
    "    print(f\"Latitude: {row.lat}\")\n",
    "    print(f\"geometry: {row.geometry}\")\n",
    "    print('---')\n"
   ]
  },
  {
   "cell_type": "code",
   "execution_count": null,
   "metadata": {},
   "outputs": [],
   "source": []
  },
  {
   "cell_type": "code",
   "execution_count": null,
   "metadata": {},
   "outputs": [],
   "source": [
    "# shapefiles have a nested structure: layer(s) -> feature(s) -> geometry\n",
    "lyr = plot_sites.GetLayer() # get the only layer in the shapefile\n",
    "feat = lyr.GetFeature(1)          # get the first feature in the layer (1 feature per site)\n",
    "geom = feat.GetGeometryRef()      # get the feature's geometry\n",
    "geo_transform = img_open.GetGeoTransform() # get hyperspectral image geotransformation\n",
    "\n",
    "# get transform for decimal degrees\n",
    "from_srs = lyr.GetSpatialRef()                                         # get shapefile srs def\n",
    "to_srs = osr.SpatialReference()                                        # init ogr srs object\n",
    "\n",
    "to_srs.ImportFromEPSG(4326)                                            # import wgs84 srs def\n",
    "xytransform = osr.CoordinateTransformation(from_srs,to_srs)            # get transform object\n",
    "\n",
    "# get UTM and lat/long coordinates for each of the sites\n",
    "utm_coordinate_pairs = {}\n",
    "ll_coordinate_pairs = {}\n",
    "for feature in lyr:\n",
    "    geometry = feature.GetGeometryRef()                                 # get site geometry\n",
    "    utm_coordinate_pairs[feature['Modified_r']] = (geometry.GetX(), geometry.GetY()) # get x,y utm coordinates \n",
    "    geometry.Transform(xytransform)                                      # to wgs84\n",
    "    ll_coordinate_pairs[feature['Modified_r']] = (geometry.GetX(), geometry.GetY())  # get lon, lat\n",
    "\n",
    "   \n",
    "# get the x and y UTM coordinates for the first site\n",
    "# utm coordinates twisted in dataset\n",
    "x, y = utm_coordinate_pairs['T1-010-C']\n",
    "\n",
    "x_res = sqrt(geo_transform[1]*geo_transform[1] + geo_transform[2]*geo_transform[2])\n",
    "y_res = sqrt(geo_transform[4]*geo_transform[4]+ geo_transform[5]*geo_transform[5])\n",
    "\n",
    "print(f\"x_res: {x_res}\")\n",
    "print(f\"y_res: {y_res}\")\n",
    "geo_transform_new = (geo_transform[0],x_res,geo_transform[2],geo_transform[3],geo_transform[4],y_res)\n",
    "\n",
    "\n",
    "# Create affine transformation matrix\n",
    "affine_transform = Affine(\n",
    "    geo_transform_new[1], geo_transform_new[2], geo_transform_new[0],\n",
    "    geo_transform_new[4], geo_transform_new[5], geo_transform_new[3]\n",
    ")\n",
    "\n",
    "\n",
    "affine_transform = affine.Affine.from_gdal(*img_open.GetGeoTransform())     # affine forward transform\n",
    "inverse_transform = ~affine_transform                                  # invert transform\n",
    "px, py = inverse_transform * (x, y)                                    # apply to x,y coordinates\n",
    "px, py = int(px + 0.5), int(py + 0.5)                                  # get new x,y as integers\n",
    "\n",
    "\n",
    "# print the three coordinates (UTM, geographic, image)\n",
    "print( \"\\n\".join([\"Site 1 UTM coordinates (x,y): \"+\"\\t\"*4+str((x,y)),\n",
    "       \" are equal to geographic coordinates (lng,lat): \\t\"+str(ll_coordinate_pairs['T1-005-C']),\n",
    "       \" and fall within image coordinates (pixel,line):\\t\"+str((px,py))]) )"
   ]
  },
  {
   "cell_type": "code",
   "execution_count": null,
   "metadata": {},
   "outputs": [],
   "source": [
    "geo_transform"
   ]
  },
  {
   "cell_type": "code",
   "execution_count": 13,
   "metadata": {},
   "outputs": [],
   "source": [
    "# Dictionary containing band descriptions\n",
    "band_dictionary = {\n",
    "    \"visible-violet\": {'lower': 375, 'upper': 450, 'color': 'violet'},\n",
    "    \"visible-blue\": {'lower': 450, 'upper': 485, 'color': 'blue'},\n",
    "    \"visible-cyan\": {'lower': 485, 'upper': 500, 'color': 'cyan'},\n",
    "    \"visible-green\": {'lower': 500, 'upper': 565, 'color': 'green'},\n",
    "    \"visible-yellow\": {'lower': 565, 'upper': 590, 'color': 'yellow'},\n",
    "    \"visible-orange\": {'lower': 590, 'upper': 625, 'color': 'orange'},\n",
    "    \"visible-red\": {'lower': 625, 'upper': 740, 'color': 'red'},\n",
    "    \"near-infrared\": {'lower': 740, 'upper': 1100, 'color': 'gray'},\n",
    "    \"shortwave-infrared\": {'lower': 1100, 'upper': 2500, 'color': 'white'}\n",
    "}\n",
    "\n",
    "# Function to classify bands based on their wavelength\n",
    "def classify_band(wavelength):\n",
    "    for region, limits in band_dictionary.items():\n",
    "        if limits['lower'] < wavelength <= limits['upper']:\n",
    "            return region\n",
    "    return None\n",
    "\n",
    "# define site on image\n",
    "sitename1 = \"Testsite 1\"\n",
    "px1, py1 = 600, 6000\n",
    "\n",
    "sitename2 = \"Testsite 2\"\n",
    "px2, py2 = 500, 5000\n",
    "\n",
    "# Extracting metadata keys and values\n",
    "metadata_keys = img_open.GetMetadata().keys()\n",
    "metadata_values = img_open.GetMetadata().values()\n",
    "\n",
    "\n",
    "# Lists of band numbers and band centers\n",
    "band_numbers = [\n",
    "    int(key.split(\"_\")[1])\n",
    "    for key in metadata_keys\n",
    "    if key != \"wavelength_units\"\n",
    "]\n",
    "\n",
    "band_centers = [\n",
    "    float(value.split(\" \")[0])\n",
    "    for value in metadata_values\n",
    "    if value != \"Nanometers\"\n",
    "]\n",
    "\n",
    "# Classify each band center\n",
    "em_regions = [classify_band(b) for b in band_centers]\n",
    "\n",
    "def get_pixel_reflectance(x,y):\n",
    "    return img_open.ReadAsArray(x,y,1,1).flatten().tolist()\n",
    "\n",
    "\n",
    "# get the reflectance values of the site (careful: these values are already sorted --> add to df after sort)\n",
    "#testsite1_reflectance = img_open.ReadAsArray(px1,py1,1,1).flatten().tolist()\n",
    "#testsite2_reflectance = img_open.ReadAsArray(px2,py2,1,1).flatten().tolist()\n",
    "testsite1_reflectance = get_pixel_reflectance(px1,py1)\n",
    "testsite2_reflectance = get_pixel_reflectance(px2,py2)"
   ]
  },
  {
   "cell_type": "markdown",
   "metadata": {},
   "source": [
    "reflectance_slow = [\n",
    "    float(img_open.GetRasterBand(band_nr).ReadAsArray()[py,px])\n",
    "    for band_nr in band_numbers\n",
    "]"
   ]
  },
  {
   "cell_type": "code",
   "execution_count": null,
   "metadata": {},
   "outputs": [],
   "source": [
    "# DataFrame describing bands\n",
    "bands = pd.DataFrame({\n",
    "    \"Band number\": band_numbers,\n",
    "    \"Band center (nm)\": band_centers,\n",
    "    \"EM region\": em_regions\n",
    "}, index=band_numbers).sort_index()\n",
    "\n",
    "bands[f\"{sitename1} Reflectance\"] = testsite1_reflectance\n",
    "bands[f\"{sitename2} Reflectance\"] = testsite2_reflectance\n",
    "print(bands.head(10))\n"
   ]
  },
  {
   "cell_type": "code",
   "execution_count": null,
   "metadata": {},
   "outputs": [],
   "source": [
    "bands.tail"
   ]
  },
  {
   "cell_type": "code",
   "execution_count": null,
   "metadata": {},
   "outputs": [],
   "source": [
    "bands.query(\"`Band number` == 57\")"
   ]
  },
  {
   "cell_type": "markdown",
   "metadata": {},
   "source": [
    "### Create a reflectance plot for the 2 test sites"
   ]
  },
  {
   "cell_type": "code",
   "execution_count": null,
   "metadata": {},
   "outputs": [],
   "source": [
    "fig, ax = plt.subplots()\n",
    "ax.plot(bands[\"Band center (nm)\"], bands[\"Testsite 1 Reflectance\"], linewidth=1)\n",
    "ax.plot(bands[\"Band center (nm)\"], bands[\"Testsite 2 Reflectance\"], linewidth=1)\n",
    "\n",
    "x_limit_min = math.floor(bands[\"Band center (nm)\"].min())\n",
    "x_limit_max = math.ceil(bands[\"Band center (nm)\"].max())\n",
    "\n",
    "y_limit_min = bands[[\"Testsite 1 Reflectance\",\"Testsite 2 Reflectance\"]].min().min()\n",
    "y_limit_max = bands[[\"Testsite 1 Reflectance\",\"Testsite 2 Reflectance\"]].max().max()\n",
    "\n",
    "y_limit_min = -0.025\n",
    "y_limit_max = 0.08\n",
    "\n",
    "ax.set(xlim=(x_limit_min,x_limit_max), ylim=(y_limit_min,y_limit_max), xlabel=\"wavelength\", ylabel=\"reflectance\")"
   ]
  },
  {
   "cell_type": "markdown",
   "metadata": {},
   "source": [
    "### Create the same plot with the indicators of the wavelength"
   ]
  },
  {
   "cell_type": "code",
   "execution_count": null,
   "metadata": {},
   "outputs": [],
   "source": [
    "%matplotlib inline\n",
    "titlefont = {'fontsize':16,'fontweight':2,\n",
    "             'verticalalignment':'baseline','horizontalalignment':'center'}\n",
    "plt.rcParams['figure.figsize'] = [16, 8]\n",
    "\n",
    "# plot. all of this is matplotlib ---------->\n",
    "ax1 = plt.subplot(211)\n",
    "ax2 = plt.subplot(212, sharex=ax1)\n",
    "\n",
    "bands.plot(x='Band center (nm)', y=f\"{sitename1} Reflectance\", \n",
    "            ax=ax1, c='black', label='T1-005-T', legend=True)\n",
    "bands.plot(x='Band center (nm)', y=f\"{sitename2} Reflectance\", \n",
    "            ax=ax2, c='black', label='T1-005-C', legend=True)\n",
    "\n",
    "for i, ax in enumerate([ax1,ax2]): \n",
    "    \n",
    "    # add shaders for band regions\n",
    "    for region,limits in band_dictionary.items():\n",
    "        ax.axvspan(limits['lower'], limits['upper'], alpha=0.2, \n",
    "                   color=limits['color'], label=region)\n",
    "        \n",
    "    # add water vapor region shaders\n",
    "    ax.axvspan(1340, 1445, alpha=0.1, color='blue', label='water vapor regions')\n",
    "    ax.axvspan(1790, 1955, alpha=0.1, color='blue')\n",
    "    \n",
    "    # some plotting config\n",
    "    ax.set_ylim(0,0.15)\n",
    "    ax.set_xlim(min(band_centers),max(band_centers))\n",
    "    ax.set_ylabel(\"reflectance\", fontsize=16)\n",
    "    ax.set_xlabel(\"wavelength (nm)\", fontsize=16)\n",
    "    ax.tick_params(axis='both', which='major', labelsize=14)\n",
    "    ax.grid('on', alpha=0.25)\n",
    "    ax.set_title(\"Test site \"+str(i+1), fontdict = titlefont, pad = 10)\n",
    "\n",
    "# now add custom legend\n",
    "ax1.legend(prop={'size': 12}, loc = 'upper right', \n",
    "           bbox_to_anchor=(1, 1.25), ncol = 2, framealpha = 1)\n",
    "\n",
    "\n",
    "\n"
   ]
  },
  {
   "cell_type": "code",
   "execution_count": 29,
   "metadata": {},
   "outputs": [],
   "source": [
    "# remove a few band to reduce atmospheric noise \n",
    "wavelengths = bands[\"Band center (nm)\"]\n",
    "bblist = np.ones((425,))\n",
    "bblist[0:14] = 0\n",
    "bblist[189:225] = 0\n",
    "bblist[281:336] = 0\n",
    "bblist[405:] = 0"
   ]
  },
  {
   "cell_type": "code",
   "execution_count": 31,
   "metadata": {},
   "outputs": [],
   "source": [
    "# set two (random) test sites within the image boundaries\n",
    "px1_x, px1_y = 100, 6000\n",
    "px2_x, px2_y = 250, 510\n",
    "\n",
    "# Re-plot with the bad bands list and wavelengths applied\n",
    "pixel1 = img_open.ReadAsArray(px1_x, px1_y, 1, 1)\n",
    "pixel1 = np.reshape(pixel1,(425))\n",
    "\n",
    "pixel2 = img_open.ReadAsArray(px2_x, px2_y, 1, 1)\n",
    "pixel2 = np.reshape(pixel2,(425))\n",
    "\n",
    "pixel1[bblist == 0] = np.nan\n",
    "pixel2[bblist == 0] = np.nan\n"
   ]
  },
  {
   "cell_type": "code",
   "execution_count": null,
   "metadata": {},
   "outputs": [],
   "source": [
    "min_pixel1 = np.nanmin(pixel1)\n",
    "min_pixel2 = np.nanmin(pixel2)\n",
    "\n",
    "if(min_pixel1 > min_pixel2):\n",
    "    y_min = min_pixel2\n",
    "else:\n",
    "    y_min = min_pixel1\n",
    "\n",
    "max_pixel1 = np.nanmax(pixel1)\n",
    "max_pixel2 = np.nanmax(pixel2)\n",
    "\n",
    "if(max_pixel1 > max_pixel2):\n",
    "    y_max = max_pixel1\n",
    "else:\n",
    "    y_max = max_pixel2\n",
    "\n",
    "print(y_min)\n",
    "print(y_max)"
   ]
  },
  {
   "cell_type": "code",
   "execution_count": null,
   "metadata": {},
   "outputs": [],
   "source": [
    "# Compare vegetation and water spectra\n",
    "plt.plot(wavelengths, pixel1, color = 'g',  label = 'T1-005-T')\n",
    "plt.plot(wavelengths, pixel2, color = 'b',  label = 'T1-005-C')\n",
    "plt.xlabel ( 'Wavelength (nm)', fontsize=20)\n",
    "#plt.ylim(y_min, y_max)\n",
    "plt.ylabel('Reflectance', fontsize=20)\n",
    "plt.grid()\n",
    "plt.legend()\n",
    "\n",
    "\n",
    "plt.show()"
   ]
  },
  {
   "cell_type": "code",
   "execution_count": null,
   "metadata": {},
   "outputs": [],
   "source": [
    "%matplotlib inline\n",
    "titlefont = {'fontsize':16,'fontweight':2,\n",
    "             'verticalalignment':'baseline','horizontalalignment':'center'}\n",
    "plt.rcParams['figure.figsize'] = [16, 8]\n",
    "\n",
    "plt.plot(wavelengths, pixel1, color = 'g',  label = 'T1-005-T')\n",
    "plt.plot(wavelengths, pixel2, color = 'b',  label = 'T1-005-C')\n",
    "\n",
    "\n",
    "# add shaders for band regions\n",
    "for region,limits in band_dictionary.items():\n",
    "    plt.axvspan(limits['lower'], limits['upper'], alpha=0.2, color=limits['color'], label=region)\n",
    "        \n",
    "# add water vapor region shaders\n",
    "plt.axvspan(1320, 1500, alpha=0.1, color='blue', label='water vapor regions')\n",
    "plt.axvspan(1780, 2055, alpha=0.1, color='blue')\n",
    "    \n",
    "# some plotting config\n",
    "#plt.ylim(y_min,y_max)\n",
    "#plt.xlim(min(wavelengths),max(wavelengths))\n",
    "plt.ylabel(\"reflectance\", fontsize=16)\n",
    "plt.xlabel(\"wavelength (nm)\", fontsize=16)\n",
    "plt.tick_params(axis='both', which='major', labelsize=14)\n",
    "plt.grid('on', alpha=0.25)\n",
    "plt.title(\"Test sites\", fontdict = titlefont, pad = 10)\n",
    "\n",
    "# now add custom legend\n",
    "plt.legend(prop={'size': 12}, loc = 'upper right', \n",
    "           bbox_to_anchor=(1, 1.25), ncol = 2, framealpha = 1)"
   ]
  },
  {
   "cell_type": "code",
   "execution_count": null,
   "metadata": {},
   "outputs": [],
   "source": []
  }
 ],
 "metadata": {
  "kernelspec": {
   "display_name": "tf-metal",
   "language": "python",
   "name": "python3"
  },
  "language_info": {
   "codemirror_mode": {
    "name": "ipython",
    "version": 3
   },
   "file_extension": ".py",
   "mimetype": "text/x-python",
   "name": "python",
   "nbconvert_exporter": "python",
   "pygments_lexer": "ipython3",
   "version": "3.10.13"
  }
 },
 "nbformat": 4,
 "nbformat_minor": 2
}
