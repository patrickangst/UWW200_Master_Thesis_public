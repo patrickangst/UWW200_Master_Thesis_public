{
 "cells": [
  {
   "cell_type": "markdown",
   "metadata": {},
   "source": [
    "# Polynomial regression approach"
   ]
  },
  {
   "cell_type": "code",
   "execution_count": 1,
   "metadata": {},
   "outputs": [],
   "source": [
    "import numpy as np\n",
    "import matplotlib.pyplot as plt\n",
    "from sklearn.cluster import KMeans\n",
    "from kneed import KneeLocator\n",
    "import rasterio\n",
    "from rasterio import mask"
   ]
  },
  {
   "cell_type": "code",
   "execution_count": 2,
   "metadata": {},
   "outputs": [],
   "source": [
    "# Step 1: Load raster data and preprocess\n",
    "# Read the hyperspectral image (assuming you have a raster file)\n",
    "pca_hs_image_path = '/Users/patrickangst/Documents/GitHub/UWW200_Master_Thesis_public/SpectralPatang/test_data_elbow/ang20180729t212542rfl/result/ang20180729t212542_rfl_v2r2_img_rectified/SPCA/PCA/OutputPCA_30_PCs'\n"
   ]
  },
  {
   "cell_type": "code",
   "execution_count": 3,
   "metadata": {},
   "outputs": [],
   "source": [
    "with rasterio.open(pca_hs_image_path) as src:\n",
    "    pca_hs_image = src.read([1, 2, 3, 4])  # Read the first 4 PCA bands\n",
    "    profile = src.profile"
   ]
  },
  {
   "cell_type": "code",
   "execution_count": 4,
   "metadata": {},
   "outputs": [],
   "source": [
    "# Step 2: Downsample the raster (reduce spatial resolution)\n",
    "# Here we use average pooling to downsample (equivalent to 'terra::aggregate')\n",
    "def downsample_raster(raster_data, factor=5):\n",
    "    new_shape = (raster_data.shape[1] // factor, raster_data.shape[2] // factor)\n",
    "    return np.mean(raster_data[:, ::factor, ::factor], axis=(1, 2))\n",
    "\n",
    "# Downsample the PCA data\n",
    "pca_data_downsampled = downsample_raster(pca_hs_image)"
   ]
  },
  {
   "cell_type": "code",
   "execution_count": 6,
   "metadata": {},
   "outputs": [],
   "source": [
    "# Step 3: Reshape and preprocess the data\n",
    "# Flatten the PCA data into a 2D array (each pixel is a row)\n",
    "pca_data_reshaped = pca_hs_image.reshape((-1, pca_hs_image.shape[0])).T  # (n_samples, n_features)\n"
   ]
  },
  {
   "cell_type": "code",
   "execution_count": 5,
   "metadata": {},
   "outputs": [],
   "source": [
    "pca_data_reshaped = pca_data_reshaped[~np.isnan(pca_data_reshaped).any(axis=1)]  # Remove rows with NaN\n"
   ]
  },
  {
   "cell_type": "code",
   "execution_count": null,
   "metadata": {},
   "outputs": [],
   "source": [
    "# Step 4: Calculate WSS for different k values\n",
    "wss = []\n",
    "k_range = range(2, 16)  # From 2 to 15 clusters\n",
    "for k in k_range:\n",
    "    kmeans = KMeans(n_clusters=k, n_init=10, random_state=42)\n",
    "    kmeans.fit(pca_data_reshaped)\n",
    "    wss.append(kmeans.inertia_)  # WSS is the inertia attribute of kmeans"
   ]
  },
  {
   "cell_type": "code",
   "execution_count": null,
   "metadata": {},
   "outputs": [],
   "source": [
    "# Step 5: Use Kneedle to find the \"elbow\"\n",
    "kneedle = KneeLocator(k_range, wss, curve=\"convex\", direction=\"decreasing\")\n",
    "optimal_k = kneedle.elbow"
   ]
  },
  {
   "cell_type": "code",
   "execution_count": null,
   "metadata": {},
   "outputs": [],
   "source": [
    "# Step 6: Plot the WSS and highlight the optimal k\n",
    "plt.figure(figsize=(8, 6))\n",
    "plt.plot(k_range, wss, marker='o', label=\"WSS (within-cluster sum of squares)\")\n",
    "plt.axvline(x=optimal_k, color='red', linestyle='--', label=f\"Optimal k = {optimal_k}\")\n",
    "plt.title(\"Elbow Method for Optimal k\")\n",
    "plt.xlabel(\"Number of Clusters (k)\")\n",
    "plt.ylabel(\"Within-Cluster Sum of Squares (WSS)\")\n",
    "plt.legend()\n",
    "plt.show()"
   ]
  },
  {
   "cell_type": "code",
   "execution_count": null,
   "metadata": {},
   "outputs": [],
   "source": [
    "# Step 7: Print the optimal number of clusters\n",
    "print(f\"Optimal number of clusters (k) determined by Kneedle: {optimal_k}\")"
   ]
  },
  {
   "cell_type": "code",
   "execution_count": null,
   "metadata": {},
   "outputs": [],
   "source": []
  },
  {
   "cell_type": "code",
   "execution_count": null,
   "metadata": {},
   "outputs": [],
   "source": []
  }
 ],
 "metadata": {
  "kernelspec": {
   "display_name": "gpu_env",
   "language": "python",
   "name": "python3"
  },
  "language_info": {
   "codemirror_mode": {
    "name": "ipython",
    "version": 3
   },
   "file_extension": ".py",
   "mimetype": "text/x-python",
   "name": "python",
   "nbconvert_exporter": "python",
   "pygments_lexer": "ipython3",
   "version": "3.10.13"
  }
 },
 "nbformat": 4,
 "nbformat_minor": 2
}
