{
 "cells": [
  {
   "cell_type": "markdown",
   "metadata": {},
   "source": [
    "# Polynomial regression approach"
   ]
  },
  {
   "cell_type": "code",
   "execution_count": 1,
   "metadata": {},
   "outputs": [],
   "source": [
    "import numpy as np\n",
    "import rasterio\n",
    "from sklearn.cluster import KMeans\n",
    "import matplotlib.pyplot as plt"
   ]
  },
  {
   "cell_type": "markdown",
   "metadata": {},
   "source": [
    "### Define input file info"
   ]
  },
  {
   "cell_type": "code",
   "execution_count": 2,
   "metadata": {},
   "outputs": [],
   "source": [
    "# Path to the hyperspectral image file\n",
    "img_file = \"../MasterThesisRCode/data/hs_raw_image/ang20190712t231624_rfl_v2v2_img\""
   ]
  },
  {
   "cell_type": "code",
   "execution_count": 3,
   "metadata": {},
   "outputs": [],
   "source": [
    "# Open the image\n",
    "with rasterio.open(img_file) as src:\n",
    "    img_data = src.read()  # img_data shape will be (bands, height, width)"
   ]
  },
  {
   "cell_type": "code",
   "execution_count": 4,
   "metadata": {},
   "outputs": [],
   "source": [
    "# Get the shape of the image\n",
    "bands, height, width = img_data.shape\n",
    "\n",
    "# Reshape to have pixels as rows and bands as columns\n",
    "img_reshaped = img_data.reshape(bands, height * width).T  # Shape: (num_pixels, num_bands)\n"
   ]
  },
  {
   "cell_type": "code",
   "execution_count": null,
   "metadata": {},
   "outputs": [],
   "source": [
    "# Define number of clusters\n",
    "n_clusters = 20  # Set this as needed\n",
    "\n",
    "# Perform k-means clustering\n",
    "kmeans = KMeans(n_clusters=n_clusters, random_state=0)\n",
    "kmeans.fit(img_reshaped)\n",
    "\n",
    "# Get the cluster labels for each pixel\n",
    "cluster_labels = kmeans.labels_"
   ]
  },
  {
   "cell_type": "code",
   "execution_count": null,
   "metadata": {},
   "outputs": [],
   "source": [
    "# Reshape the labels back to the (height, width) format\n",
    "clustered_image = cluster_labels.reshape(height, width)"
   ]
  },
  {
   "cell_type": "code",
   "execution_count": null,
   "metadata": {},
   "outputs": [],
   "source": [
    "plt.imshow(clustered_image, cmap='tab20')  # 'tab20' provides a variety of colors\n",
    "plt.colorbar()\n",
    "plt.title(f\"K-Means Clustering with {n_clusters} Clusters\")\n",
    "plt.show()"
   ]
  },
  {
   "cell_type": "code",
   "execution_count": null,
   "metadata": {},
   "outputs": [],
   "source": [
    "output_file = \"clustered_hyperspectral_image.tif\"\n",
    "with rasterio.open(\n",
    "    output_file,\n",
    "    'w',\n",
    "    driver='GTiff',\n",
    "    height=height,\n",
    "    width=width,\n",
    "    count=1,  # Only one band for cluster labels\n",
    "    dtype=rasterio.uint8\n",
    ") as dst:\n",
    "    dst.write(clustered_image.astype(np.uint8), 1)\n"
   ]
  }
 ],
 "metadata": {
  "kernelspec": {
   "display_name": "gpu_env",
   "language": "python",
   "name": "python3"
  },
  "language_info": {
   "codemirror_mode": {
    "name": "ipython",
    "version": 3
   },
   "file_extension": ".py",
   "mimetype": "text/x-python",
   "name": "python",
   "nbconvert_exporter": "python",
   "pygments_lexer": "ipython3",
   "version": "3.10.13"
  }
 },
 "nbformat": 4,
 "nbformat_minor": 2
}
